{
 "cells": [
  {
   "cell_type": "code",
   "execution_count": 1,
   "metadata": {},
   "outputs": [],
   "source": [
    "# set the seed value for the notebook so results are reproducible\n",
    "from numpy.random import seed\n",
    "seed(42)"
   ]
  },
  {
   "cell_type": "code",
   "execution_count": 2,
   "metadata": {},
   "outputs": [],
   "source": [
    "import numpy as np\n",
    "import pandas as pd\n",
    "import os"
   ]
  },
  {
   "cell_type": "code",
   "execution_count": 3,
   "metadata": {
    "scrolled": true
   },
   "outputs": [
    {
     "data": {
      "text/html": [
       "<div>\n",
       "<style scoped>\n",
       "    .dataframe tbody tr th:only-of-type {\n",
       "        vertical-align: middle;\n",
       "    }\n",
       "\n",
       "    .dataframe tbody tr th {\n",
       "        vertical-align: top;\n",
       "    }\n",
       "\n",
       "    .dataframe thead th {\n",
       "        text-align: right;\n",
       "    }\n",
       "</style>\n",
       "<table border=\"1\" class=\"dataframe\">\n",
       "  <thead>\n",
       "    <tr style=\"text-align: right;\">\n",
       "      <th></th>\n",
       "      <th>original_title</th>\n",
       "      <th>year</th>\n",
       "      <th>genre</th>\n",
       "      <th>director</th>\n",
       "      <th>actors</th>\n",
       "      <th>budget</th>\n",
       "      <th>worlwide_gross_income</th>\n",
       "      <th>metascore</th>\n",
       "      <th>revenue_percent</th>\n",
       "      <th>Lalor Roddy</th>\n",
       "      <th>...</th>\n",
       "      <th>Robert Stromberg</th>\n",
       "      <th>Mark Andrews</th>\n",
       "      <th>Jordan Vogt-Roberts</th>\n",
       "      <th>Bradford Lewis</th>\n",
       "      <th>Dan Scanlon</th>\n",
       "      <th>Josh Cooley</th>\n",
       "      <th>Peter Sohn</th>\n",
       "      <th>Angus MacLane</th>\n",
       "      <th>Simon Kinberg</th>\n",
       "      <th>Nathan Greno</th>\n",
       "    </tr>\n",
       "  </thead>\n",
       "  <tbody>\n",
       "    <tr>\n",
       "      <th>0</th>\n",
       "      <td>The Devil's Doorway</td>\n",
       "      <td>2018</td>\n",
       "      <td>Horror</td>\n",
       "      <td>Aislinn Clarke</td>\n",
       "      <td>Lalor Roddy, Ciaran Flynn, Helena Bereen, Laur...</td>\n",
       "      <td>1.0</td>\n",
       "      <td>516660.0</td>\n",
       "      <td>48.0</td>\n",
       "      <td>51665900.00</td>\n",
       "      <td>1.0</td>\n",
       "      <td>...</td>\n",
       "      <td>0.0</td>\n",
       "      <td>0.0</td>\n",
       "      <td>0.0</td>\n",
       "      <td>0.0</td>\n",
       "      <td>0.0</td>\n",
       "      <td>0.0</td>\n",
       "      <td>0.0</td>\n",
       "      <td>0.0</td>\n",
       "      <td>0.0</td>\n",
       "      <td>0.0</td>\n",
       "    </tr>\n",
       "    <tr>\n",
       "      <th>1</th>\n",
       "      <td>The Reception</td>\n",
       "      <td>2005</td>\n",
       "      <td>Comedy, Drama, Romance</td>\n",
       "      <td>John G. Young</td>\n",
       "      <td>Maggie Burkwit, Chris Burmester, Darien Sills-...</td>\n",
       "      <td>5000.0</td>\n",
       "      <td>18389.0</td>\n",
       "      <td>64.0</td>\n",
       "      <td>267.78</td>\n",
       "      <td>0.0</td>\n",
       "      <td>...</td>\n",
       "      <td>0.0</td>\n",
       "      <td>0.0</td>\n",
       "      <td>0.0</td>\n",
       "      <td>0.0</td>\n",
       "      <td>0.0</td>\n",
       "      <td>0.0</td>\n",
       "      <td>0.0</td>\n",
       "      <td>0.0</td>\n",
       "      <td>0.0</td>\n",
       "      <td>0.0</td>\n",
       "    </tr>\n",
       "    <tr>\n",
       "      <th>2</th>\n",
       "      <td>Following</td>\n",
       "      <td>1998</td>\n",
       "      <td>Crime, Mystery, Thriller</td>\n",
       "      <td>Christopher Nolan</td>\n",
       "      <td>Jeremy Theobald, Alex Haw, Lucy Russell, John ...</td>\n",
       "      <td>6000.0</td>\n",
       "      <td>48482.0</td>\n",
       "      <td>60.0</td>\n",
       "      <td>708.03</td>\n",
       "      <td>0.0</td>\n",
       "      <td>...</td>\n",
       "      <td>0.0</td>\n",
       "      <td>0.0</td>\n",
       "      <td>0.0</td>\n",
       "      <td>0.0</td>\n",
       "      <td>0.0</td>\n",
       "      <td>0.0</td>\n",
       "      <td>0.0</td>\n",
       "      <td>0.0</td>\n",
       "      <td>0.0</td>\n",
       "      <td>0.0</td>\n",
       "    </tr>\n",
       "    <tr>\n",
       "      <th>3</th>\n",
       "      <td>El mariachi</td>\n",
       "      <td>1992</td>\n",
       "      <td>Action, Crime, Thriller</td>\n",
       "      <td>Robert Rodriguez</td>\n",
       "      <td>Carlos Gallardo, Consuelo Gómez, Jaime de Hoyo...</td>\n",
       "      <td>7000.0</td>\n",
       "      <td>2040920.0</td>\n",
       "      <td>73.0</td>\n",
       "      <td>29056.00</td>\n",
       "      <td>0.0</td>\n",
       "      <td>...</td>\n",
       "      <td>0.0</td>\n",
       "      <td>0.0</td>\n",
       "      <td>0.0</td>\n",
       "      <td>0.0</td>\n",
       "      <td>0.0</td>\n",
       "      <td>0.0</td>\n",
       "      <td>0.0</td>\n",
       "      <td>0.0</td>\n",
       "      <td>0.0</td>\n",
       "      <td>0.0</td>\n",
       "    </tr>\n",
       "    <tr>\n",
       "      <th>4</th>\n",
       "      <td>Primer</td>\n",
       "      <td>2004</td>\n",
       "      <td>Drama, Sci-Fi, Thriller</td>\n",
       "      <td>Shane Carruth</td>\n",
       "      <td>Shane Carruth, David Sullivan, Casey Gooden, A...</td>\n",
       "      <td>7000.0</td>\n",
       "      <td>545436.0</td>\n",
       "      <td>68.0</td>\n",
       "      <td>7691.94</td>\n",
       "      <td>0.0</td>\n",
       "      <td>...</td>\n",
       "      <td>0.0</td>\n",
       "      <td>0.0</td>\n",
       "      <td>0.0</td>\n",
       "      <td>0.0</td>\n",
       "      <td>0.0</td>\n",
       "      <td>0.0</td>\n",
       "      <td>0.0</td>\n",
       "      <td>0.0</td>\n",
       "      <td>0.0</td>\n",
       "      <td>0.0</td>\n",
       "    </tr>\n",
       "  </tbody>\n",
       "</table>\n",
       "<p>5 rows × 10486 columns</p>\n",
       "</div>"
      ],
      "text/plain": [
       "        original_title  year                     genre           director  \\\n",
       "0  The Devil's Doorway  2018                    Horror     Aislinn Clarke   \n",
       "1        The Reception  2005    Comedy, Drama, Romance      John G. Young   \n",
       "2            Following  1998  Crime, Mystery, Thriller  Christopher Nolan   \n",
       "3          El mariachi  1992   Action, Crime, Thriller   Robert Rodriguez   \n",
       "4               Primer  2004   Drama, Sci-Fi, Thriller      Shane Carruth   \n",
       "\n",
       "                                              actors  budget  \\\n",
       "0  Lalor Roddy, Ciaran Flynn, Helena Bereen, Laur...     1.0   \n",
       "1  Maggie Burkwit, Chris Burmester, Darien Sills-...  5000.0   \n",
       "2  Jeremy Theobald, Alex Haw, Lucy Russell, John ...  6000.0   \n",
       "3  Carlos Gallardo, Consuelo Gómez, Jaime de Hoyo...  7000.0   \n",
       "4  Shane Carruth, David Sullivan, Casey Gooden, A...  7000.0   \n",
       "\n",
       "   worlwide_gross_income  metascore  revenue_percent  Lalor Roddy  ...  \\\n",
       "0               516660.0       48.0      51665900.00          1.0  ...   \n",
       "1                18389.0       64.0           267.78          0.0  ...   \n",
       "2                48482.0       60.0           708.03          0.0  ...   \n",
       "3              2040920.0       73.0         29056.00          0.0  ...   \n",
       "4               545436.0       68.0          7691.94          0.0  ...   \n",
       "\n",
       "   Robert Stromberg  Mark Andrews  Jordan Vogt-Roberts  Bradford Lewis  \\\n",
       "0               0.0           0.0                  0.0             0.0   \n",
       "1               0.0           0.0                  0.0             0.0   \n",
       "2               0.0           0.0                  0.0             0.0   \n",
       "3               0.0           0.0                  0.0             0.0   \n",
       "4               0.0           0.0                  0.0             0.0   \n",
       "\n",
       "   Dan Scanlon  Josh Cooley  Peter Sohn  Angus MacLane  Simon Kinberg  \\\n",
       "0          0.0          0.0         0.0            0.0            0.0   \n",
       "1          0.0          0.0         0.0            0.0            0.0   \n",
       "2          0.0          0.0         0.0            0.0            0.0   \n",
       "3          0.0          0.0         0.0            0.0            0.0   \n",
       "4          0.0          0.0         0.0            0.0            0.0   \n",
       "\n",
       "   Nathan Greno  \n",
       "0           0.0  \n",
       "1           0.0  \n",
       "2           0.0  \n",
       "3           0.0  \n",
       "4           0.0  \n",
       "\n",
       "[5 rows x 10486 columns]"
      ]
     },
     "execution_count": 3,
     "metadata": {},
     "output_type": "execute_result"
    }
   ],
   "source": [
    "# read in the data\n",
    "movies = pd.read_csv('moviesClean.csv')\n",
    "movies_df = movies[[\"original_title\", \"year\"]]\n",
    "\n",
    "movies.head()"
   ]
  },
  {
   "cell_type": "code",
   "execution_count": 4,
   "metadata": {},
   "outputs": [
    {
     "data": {
      "text/plain": [
       "(6379, 10477)"
      ]
     },
     "execution_count": 4,
     "metadata": {},
     "output_type": "execute_result"
    }
   ],
   "source": [
    "# drop text-based columns for the model\n",
    "movies.drop(columns=['original_title', 'year', 'genre', 'director', 'actors',\n",
    "                     'budget', 'worlwide_gross_income', 'metascore',\n",
    "                     'revenue_percent' \n",
    "                       ], inplace=True)\n",
    "movies.shape"
   ]
  },
  {
   "cell_type": "code",
   "execution_count": 5,
   "metadata": {},
   "outputs": [
    {
     "name": "stdout",
     "output_type": "stream",
     "text": [
      "(6379, 10476) (6379, 1)\n"
     ]
    }
   ],
   "source": [
    "# from sklearn.datasets import make_classification\n",
    "\n",
    "X = movies.drop('success', axis = 1)\n",
    "y = movies['success']\n",
    "\n",
    "y = y.values.reshape(-1, 1)\n",
    "\n",
    "print(X.shape, y.shape)"
   ]
  },
  {
   "cell_type": "code",
   "execution_count": 6,
   "metadata": {},
   "outputs": [],
   "source": [
    "# create training and testing data\n",
    "from sklearn.model_selection import train_test_split\n",
    "\n",
    "X_train, X_test, y_train, y_test = train_test_split(X, y, random_state=1)"
   ]
  },
  {
   "cell_type": "markdown",
   "metadata": {},
   "source": [
    "#   Data Pre-Processing"
   ]
  },
  {
   "cell_type": "code",
   "execution_count": 7,
   "metadata": {},
   "outputs": [],
   "source": [
    "# scale the data\n",
    "from sklearn.preprocessing import StandardScaler\n",
    "\n",
    "X_scaler = StandardScaler().fit(X_train)"
   ]
  },
  {
   "cell_type": "code",
   "execution_count": 8,
   "metadata": {},
   "outputs": [],
   "source": [
    "# scale both training and testing data\n",
    "X_train_scaled = X_scaler.transform(X_train)\n",
    "X_test_scaled = X_scaler.transform(X_test)"
   ]
  },
  {
   "cell_type": "code",
   "execution_count": 9,
   "metadata": {},
   "outputs": [],
   "source": [
    "from tensorflow.keras.utils import to_categorical"
   ]
  },
  {
   "cell_type": "code",
   "execution_count": 10,
   "metadata": {},
   "outputs": [
    {
     "data": {
      "text/plain": [
       "array([[1., 0.],\n",
       "       [0., 1.],\n",
       "       [0., 1.],\n",
       "       ...,\n",
       "       [1., 0.],\n",
       "       [1., 0.],\n",
       "       [1., 0.]], dtype=float32)"
      ]
     },
     "execution_count": 10,
     "metadata": {},
     "output_type": "execute_result"
    }
   ],
   "source": [
    "# One-hot encoding\n",
    "y_train_categorical = to_categorical(y_train)\n",
    "y_test_categorical = to_categorical(y_test)\n",
    "y_train_categorical"
   ]
  },
  {
   "cell_type": "code",
   "execution_count": 11,
   "metadata": {},
   "outputs": [
    {
     "name": "stderr",
     "output_type": "stream",
     "text": [
      "C:\\Users\\mmidw\\anaconda3\\envs\\PythonML\\lib\\site-packages\\sklearn\\utils\\validation.py:72: DataConversionWarning: A column-vector y was passed when a 1d array was expected. Please change the shape of y to (n_samples, ), for example using ravel().\n",
      "  return f(**kwargs)\n"
     ]
    }
   ],
   "source": [
    "from sklearn.preprocessing import LabelEncoder\n",
    "\n",
    "# Step 1: Label-encode data set\n",
    "label_encoder = LabelEncoder()\n",
    "label_encoder.fit(y)\n",
    "encoded_y = label_encoder.transform(y)"
   ]
  },
  {
   "cell_type": "markdown",
   "metadata": {},
   "source": [
    "# Create the Model"
   ]
  },
  {
   "cell_type": "code",
   "execution_count": 12,
   "metadata": {},
   "outputs": [],
   "source": [
    "# create a sequential model\n",
    "from tensorflow.keras.models import Sequential\n",
    "\n",
    "model = Sequential()"
   ]
  },
  {
   "cell_type": "code",
   "execution_count": 13,
   "metadata": {},
   "outputs": [],
   "source": [
    "# add the first layer. The number of inputs must be equal to the\n",
    "# number of columns\n",
    "from tensorflow.keras.layers import Dense\n",
    "number_inputs = 10476\n",
    "number_hidden_nodes = 800\n",
    "model.add(Dense(units=number_hidden_nodes,\n",
    "                activation='relu', input_dim=number_inputs))"
   ]
  },
  {
   "cell_type": "code",
   "execution_count": 14,
   "metadata": {},
   "outputs": [],
   "source": [
    "# add the final layer. number_classes is the number of labels to predict.\n",
    "number_classes = 2\n",
    "model.add(Dense(units=number_classes, activation='softmax'))"
   ]
  },
  {
   "cell_type": "markdown",
   "metadata": {},
   "source": [
    "# Model Summary"
   ]
  },
  {
   "cell_type": "code",
   "execution_count": 15,
   "metadata": {},
   "outputs": [
    {
     "name": "stdout",
     "output_type": "stream",
     "text": [
      "Model: \"sequential\"\n",
      "_________________________________________________________________\n",
      "Layer (type)                 Output Shape              Param #   \n",
      "=================================================================\n",
      "dense (Dense)                (None, 800)               8381600   \n",
      "_________________________________________________________________\n",
      "dense_1 (Dense)              (None, 2)                 1602      \n",
      "=================================================================\n",
      "Total params: 8,383,202\n",
      "Trainable params: 8,383,202\n",
      "Non-trainable params: 0\n",
      "_________________________________________________________________\n"
     ]
    }
   ],
   "source": [
    "model.summary()"
   ]
  },
  {
   "cell_type": "markdown",
   "metadata": {},
   "source": [
    "# Compile the Model"
   ]
  },
  {
   "cell_type": "code",
   "execution_count": 16,
   "metadata": {},
   "outputs": [],
   "source": [
    "# Use categorical crossentropy for categorical data and mean squared error for regression\n",
    "# Hint: your output layer in this example is using software for logistic regression (categorical)\n",
    "# If your output layer activation was `linear` then you may want to use `mse` for loss\n",
    "model.compile(optimizer='adam',\n",
    "              loss='categorical_crossentropy',\n",
    "              metrics=['accuracy'])"
   ]
  },
  {
   "cell_type": "markdown",
   "metadata": {},
   "source": [
    "# Train the Model"
   ]
  },
  {
   "cell_type": "code",
   "execution_count": 17,
   "metadata": {},
   "outputs": [
    {
     "name": "stdout",
     "output_type": "stream",
     "text": [
      "Train on 4784 samples\n",
      "Epoch 1/50\n",
      "4784/4784 - 8s - loss: 1.3926 - accuracy: 0.6089\n",
      "Epoch 2/50\n",
      "4784/4784 - 7s - loss: 0.2231 - accuracy: 0.9041\n",
      "Epoch 3/50\n",
      "4784/4784 - 7s - loss: 0.0955 - accuracy: 0.9653\n",
      "Epoch 4/50\n",
      "4784/4784 - 7s - loss: 0.0581 - accuracy: 0.9829\n",
      "Epoch 5/50\n",
      "4784/4784 - 7s - loss: 0.0357 - accuracy: 0.9910\n",
      "Epoch 6/50\n",
      "4784/4784 - 7s - loss: 0.0226 - accuracy: 0.9952\n",
      "Epoch 7/50\n",
      "4784/4784 - 7s - loss: 0.0158 - accuracy: 0.9967\n",
      "Epoch 8/50\n",
      "4784/4784 - 7s - loss: 0.0104 - accuracy: 0.9971\n",
      "Epoch 9/50\n",
      "4784/4784 - 7s - loss: 0.0082 - accuracy: 0.9983\n",
      "Epoch 10/50\n",
      "4784/4784 - 7s - loss: 0.0068 - accuracy: 0.9981\n",
      "Epoch 11/50\n",
      "4784/4784 - 7s - loss: 0.0064 - accuracy: 0.9979\n",
      "Epoch 12/50\n",
      "4784/4784 - 7s - loss: 0.0058 - accuracy: 0.9985\n",
      "Epoch 13/50\n",
      "4784/4784 - 7s - loss: 0.0056 - accuracy: 0.9985\n",
      "Epoch 14/50\n",
      "4784/4784 - 7s - loss: 0.0053 - accuracy: 0.9983\n",
      "Epoch 15/50\n",
      "4784/4784 - 7s - loss: 0.0058 - accuracy: 0.9979\n",
      "Epoch 16/50\n",
      "4784/4784 - 7s - loss: 0.0047 - accuracy: 0.9983\n",
      "Epoch 17/50\n",
      "4784/4784 - 7s - loss: 0.0056 - accuracy: 0.9979\n",
      "Epoch 18/50\n",
      "4784/4784 - 7s - loss: 0.0051 - accuracy: 0.9979\n",
      "Epoch 19/50\n",
      "4784/4784 - 7s - loss: 0.0044 - accuracy: 0.9981\n",
      "Epoch 20/50\n",
      "4784/4784 - 7s - loss: 0.0048 - accuracy: 0.9981\n",
      "Epoch 21/50\n",
      "4784/4784 - 7s - loss: 0.0044 - accuracy: 0.9983\n",
      "Epoch 22/50\n",
      "4784/4784 - 7s - loss: 0.0033 - accuracy: 0.9981\n",
      "Epoch 23/50\n",
      "4784/4784 - 7s - loss: 0.0034 - accuracy: 0.9987\n",
      "Epoch 24/50\n",
      "4784/4784 - 7s - loss: 0.0034 - accuracy: 0.9983\n",
      "Epoch 25/50\n",
      "4784/4784 - 8s - loss: 0.0037 - accuracy: 0.9979\n",
      "Epoch 26/50\n",
      "4784/4784 - 8s - loss: 0.0034 - accuracy: 0.9981\n",
      "Epoch 27/50\n",
      "4784/4784 - 8s - loss: 0.0030 - accuracy: 0.9985\n",
      "Epoch 28/50\n",
      "4784/4784 - 7s - loss: 0.0032 - accuracy: 0.9983\n",
      "Epoch 29/50\n",
      "4784/4784 - 8s - loss: 0.0039 - accuracy: 0.9983\n",
      "Epoch 30/50\n",
      "4784/4784 - 7s - loss: 0.0029 - accuracy: 0.9981\n",
      "Epoch 31/50\n",
      "4784/4784 - 8s - loss: 0.0035 - accuracy: 0.9983\n",
      "Epoch 32/50\n",
      "4784/4784 - 7s - loss: 0.0026 - accuracy: 0.9992\n",
      "Epoch 33/50\n",
      "4784/4784 - 7s - loss: 0.0029 - accuracy: 0.9981\n",
      "Epoch 34/50\n",
      "4784/4784 - 7s - loss: 0.0031 - accuracy: 0.9985\n",
      "Epoch 35/50\n",
      "4784/4784 - 7s - loss: 0.0030 - accuracy: 0.9985\n",
      "Epoch 36/50\n",
      "4784/4784 - 7s - loss: 0.0026 - accuracy: 0.9985\n",
      "Epoch 37/50\n",
      "4784/4784 - 8s - loss: 0.0031 - accuracy: 0.9987\n",
      "Epoch 38/50\n",
      "4784/4784 - 7s - loss: 0.0028 - accuracy: 0.9990\n",
      "Epoch 39/50\n",
      "4784/4784 - 8s - loss: 0.0030 - accuracy: 0.9983\n",
      "Epoch 40/50\n",
      "4784/4784 - 7s - loss: 0.0028 - accuracy: 0.9979\n",
      "Epoch 41/50\n",
      "4784/4784 - 7s - loss: 0.0024 - accuracy: 0.9987\n",
      "Epoch 42/50\n",
      "4784/4784 - 7s - loss: 0.0022 - accuracy: 0.9990\n",
      "Epoch 43/50\n",
      "4784/4784 - 8s - loss: 0.0027 - accuracy: 0.9985\n",
      "Epoch 44/50\n",
      "4784/4784 - 8s - loss: 0.0023 - accuracy: 0.9987\n",
      "Epoch 45/50\n",
      "4784/4784 - 8s - loss: 0.0021 - accuracy: 0.9990\n",
      "Epoch 46/50\n",
      "4784/4784 - 9s - loss: 0.0020 - accuracy: 0.9992\n",
      "Epoch 47/50\n",
      "4784/4784 - 9s - loss: 0.0027 - accuracy: 0.9981\n",
      "Epoch 48/50\n",
      "4784/4784 - 9s - loss: 0.0031 - accuracy: 0.9977\n",
      "Epoch 49/50\n",
      "4784/4784 - 10s - loss: 0.0019 - accuracy: 0.9987\n",
      "Epoch 50/50\n",
      "4784/4784 - 9s - loss: 0.0020 - accuracy: 0.9987\n"
     ]
    },
    {
     "data": {
      "text/plain": [
       "<tensorflow.python.keras.callbacks.History at 0x23a52221d30>"
      ]
     },
     "execution_count": 17,
     "metadata": {},
     "output_type": "execute_result"
    }
   ],
   "source": [
    "# Fit (train) the model\n",
    "model.fit(\n",
    "    X_train_scaled,\n",
    "    y_train_categorical,\n",
    "    epochs=50,\n",
    "    shuffle=True,\n",
    "    verbose=2\n",
    ")"
   ]
  },
  {
   "cell_type": "markdown",
   "metadata": {},
   "source": [
    "# Quantify/Test the Model"
   ]
  },
  {
   "cell_type": "code",
   "execution_count": 18,
   "metadata": {},
   "outputs": [
    {
     "name": "stdout",
     "output_type": "stream",
     "text": [
      "1595/1595 - 1s - loss: 2.4867 - accuracy: 0.5906\n",
      "Loss: 2.4867476334018765, Accuracy: 0.5905956029891968\n"
     ]
    }
   ],
   "source": [
    "# Evaluate the model using the testing data\n",
    "model_loss, model_accuracy = model.evaluate(\n",
    "    X_test_scaled, y_test_categorical, verbose=2)\n",
    "print(f\"Loss: {model_loss}, Accuracy: {model_accuracy}\")"
   ]
  },
  {
   "cell_type": "markdown",
   "metadata": {},
   "source": [
    "# Save the Model"
   ]
  },
  {
   "cell_type": "code",
   "execution_count": 19,
   "metadata": {},
   "outputs": [],
   "source": [
    "model.save('classification_neural_network.h5')"
   ]
  },
  {
   "cell_type": "markdown",
   "metadata": {},
   "source": [
    "# Get data put together for Visualization"
   ]
  },
  {
   "cell_type": "code",
   "execution_count": 20,
   "metadata": {},
   "outputs": [],
   "source": [
    "# per the shapes above gathered the test observation counts\n",
    "encoded_predictions = model.predict_classes(X_test_scaled[:1595])\n",
    "prediction_labels = label_encoder.inverse_transform(encoded_predictions)"
   ]
  },
  {
   "cell_type": "code",
   "execution_count": 21,
   "metadata": {},
   "outputs": [
    {
     "name": "stdout",
     "output_type": "stream",
     "text": [
      "Predicted classes: [0 0 0 ... 0 0 0]\n",
      "Actual Labels: [[1]\n",
      " [1]\n",
      " [0]\n",
      " ...\n",
      " [0]\n",
      " [0]\n",
      " [0]]\n"
     ]
    }
   ],
   "source": [
    "# Testing how it looks\n",
    "print(f\"Predicted classes: {prediction_labels}\")\n",
    "print(f\"Actual Labels: {y_test[:1595]}\")"
   ]
  },
  {
   "cell_type": "code",
   "execution_count": 22,
   "metadata": {},
   "outputs": [
    {
     "data": {
      "text/html": [
       "<div>\n",
       "<style scoped>\n",
       "    .dataframe tbody tr th:only-of-type {\n",
       "        vertical-align: middle;\n",
       "    }\n",
       "\n",
       "    .dataframe tbody tr th {\n",
       "        vertical-align: top;\n",
       "    }\n",
       "\n",
       "    .dataframe thead th {\n",
       "        text-align: right;\n",
       "    }\n",
       "</style>\n",
       "<table border=\"1\" class=\"dataframe\">\n",
       "  <thead>\n",
       "    <tr style=\"text-align: right;\">\n",
       "      <th></th>\n",
       "      <th>key</th>\n",
       "      <th>Predicted</th>\n",
       "    </tr>\n",
       "  </thead>\n",
       "  <tbody>\n",
       "    <tr>\n",
       "      <th>0</th>\n",
       "      <td>0</td>\n",
       "      <td>0</td>\n",
       "    </tr>\n",
       "    <tr>\n",
       "      <th>1</th>\n",
       "      <td>1</td>\n",
       "      <td>0</td>\n",
       "    </tr>\n",
       "    <tr>\n",
       "      <th>2</th>\n",
       "      <td>2</td>\n",
       "      <td>0</td>\n",
       "    </tr>\n",
       "    <tr>\n",
       "      <th>3</th>\n",
       "      <td>3</td>\n",
       "      <td>0</td>\n",
       "    </tr>\n",
       "    <tr>\n",
       "      <th>4</th>\n",
       "      <td>4</td>\n",
       "      <td>0</td>\n",
       "    </tr>\n",
       "  </tbody>\n",
       "</table>\n",
       "</div>"
      ],
      "text/plain": [
       "   key  Predicted\n",
       "0    0          0\n",
       "1    1          0\n",
       "2    2          0\n",
       "3    3          0\n",
       "4    4          0"
      ]
     },
     "execution_count": 22,
     "metadata": {},
     "output_type": "execute_result"
    }
   ],
   "source": [
    "# Put the lists above for Predicted into a DF to merge together\n",
    "predicted_df = pd.DataFrame(prediction_labels)\n",
    "predicted_df.reset_index(inplace=True)\n",
    "predicted_df2 = predicted_df.rename(columns={0:\"Predicted\", 'index':'key'})\n",
    "predicted_df2.head()"
   ]
  },
  {
   "cell_type": "code",
   "execution_count": 23,
   "metadata": {},
   "outputs": [
    {
     "data": {
      "text/html": [
       "<div>\n",
       "<style scoped>\n",
       "    .dataframe tbody tr th:only-of-type {\n",
       "        vertical-align: middle;\n",
       "    }\n",
       "\n",
       "    .dataframe tbody tr th {\n",
       "        vertical-align: top;\n",
       "    }\n",
       "\n",
       "    .dataframe thead th {\n",
       "        text-align: right;\n",
       "    }\n",
       "</style>\n",
       "<table border=\"1\" class=\"dataframe\">\n",
       "  <thead>\n",
       "    <tr style=\"text-align: right;\">\n",
       "      <th></th>\n",
       "      <th>key</th>\n",
       "      <th>Actual</th>\n",
       "    </tr>\n",
       "  </thead>\n",
       "  <tbody>\n",
       "    <tr>\n",
       "      <th>0</th>\n",
       "      <td>0</td>\n",
       "      <td>1</td>\n",
       "    </tr>\n",
       "    <tr>\n",
       "      <th>1</th>\n",
       "      <td>1</td>\n",
       "      <td>1</td>\n",
       "    </tr>\n",
       "    <tr>\n",
       "      <th>2</th>\n",
       "      <td>2</td>\n",
       "      <td>0</td>\n",
       "    </tr>\n",
       "    <tr>\n",
       "      <th>3</th>\n",
       "      <td>3</td>\n",
       "      <td>0</td>\n",
       "    </tr>\n",
       "    <tr>\n",
       "      <th>4</th>\n",
       "      <td>4</td>\n",
       "      <td>0</td>\n",
       "    </tr>\n",
       "  </tbody>\n",
       "</table>\n",
       "</div>"
      ],
      "text/plain": [
       "   key  Actual\n",
       "0    0       1\n",
       "1    1       1\n",
       "2    2       0\n",
       "3    3       0\n",
       "4    4       0"
      ]
     },
     "execution_count": 23,
     "metadata": {},
     "output_type": "execute_result"
    }
   ],
   "source": [
    "# Put the lists above for Actual into a DF to merge together\n",
    "actual_df = pd.DataFrame(np.concatenate(y_test[:1595]))\n",
    "actual_df.reset_index(inplace=True)\n",
    "actual_df2 =actual_df.rename(columns={0:\"Actual\", 'index':'key'})\n",
    "actual_df2.head()"
   ]
  },
  {
   "cell_type": "code",
   "execution_count": 24,
   "metadata": {},
   "outputs": [
    {
     "data": {
      "text/html": [
       "<div>\n",
       "<style scoped>\n",
       "    .dataframe tbody tr th:only-of-type {\n",
       "        vertical-align: middle;\n",
       "    }\n",
       "\n",
       "    .dataframe tbody tr th {\n",
       "        vertical-align: top;\n",
       "    }\n",
       "\n",
       "    .dataframe thead th {\n",
       "        text-align: right;\n",
       "    }\n",
       "</style>\n",
       "<table border=\"1\" class=\"dataframe\">\n",
       "  <thead>\n",
       "    <tr style=\"text-align: right;\">\n",
       "      <th></th>\n",
       "      <th>key</th>\n",
       "      <th>key2</th>\n",
       "    </tr>\n",
       "  </thead>\n",
       "  <tbody>\n",
       "    <tr>\n",
       "      <th>0</th>\n",
       "      <td>5861</td>\n",
       "      <td>0</td>\n",
       "    </tr>\n",
       "    <tr>\n",
       "      <th>1</th>\n",
       "      <td>4506</td>\n",
       "      <td>1</td>\n",
       "    </tr>\n",
       "    <tr>\n",
       "      <th>2</th>\n",
       "      <td>4443</td>\n",
       "      <td>2</td>\n",
       "    </tr>\n",
       "    <tr>\n",
       "      <th>3</th>\n",
       "      <td>2054</td>\n",
       "      <td>3</td>\n",
       "    </tr>\n",
       "    <tr>\n",
       "      <th>4</th>\n",
       "      <td>1497</td>\n",
       "      <td>4</td>\n",
       "    </tr>\n",
       "  </tbody>\n",
       "</table>\n",
       "</div>"
      ],
      "text/plain": [
       "    key  key2\n",
       "0  5861     0\n",
       "1  4506     1\n",
       "2  4443     2\n",
       "3  2054     3\n",
       "4  1497     4"
      ]
     },
     "execution_count": 24,
     "metadata": {},
     "output_type": "execute_result"
    }
   ],
   "source": [
    "# Grabbing X_test2 data to merge back to the original\n",
    "test_movies_df = X_test\n",
    "test_movies_df.reset_index(inplace=True)\n",
    "test_movies_df.reset_index(inplace=True)\n",
    "test_movies_df2 = test_movies_df.rename(columns={'index':'key','level_0':'key2'}) \n",
    "test_movies_df3 = test_movies_df2[[\"key\", \"key2\"]]\n",
    "test_movies_df3.head()"
   ]
  },
  {
   "cell_type": "code",
   "execution_count": 25,
   "metadata": {},
   "outputs": [
    {
     "data": {
      "text/html": [
       "<div>\n",
       "<style scoped>\n",
       "    .dataframe tbody tr th:only-of-type {\n",
       "        vertical-align: middle;\n",
       "    }\n",
       "\n",
       "    .dataframe tbody tr th {\n",
       "        vertical-align: top;\n",
       "    }\n",
       "\n",
       "    .dataframe thead th {\n",
       "        text-align: right;\n",
       "    }\n",
       "</style>\n",
       "<table border=\"1\" class=\"dataframe\">\n",
       "  <thead>\n",
       "    <tr style=\"text-align: right;\">\n",
       "      <th></th>\n",
       "      <th>key2</th>\n",
       "      <th>original_title</th>\n",
       "      <th>year</th>\n",
       "    </tr>\n",
       "  </thead>\n",
       "  <tbody>\n",
       "    <tr>\n",
       "      <th>0</th>\n",
       "      <td>0</td>\n",
       "      <td>The Devil's Doorway</td>\n",
       "      <td>2018</td>\n",
       "    </tr>\n",
       "    <tr>\n",
       "      <th>1</th>\n",
       "      <td>1</td>\n",
       "      <td>The Reception</td>\n",
       "      <td>2005</td>\n",
       "    </tr>\n",
       "    <tr>\n",
       "      <th>2</th>\n",
       "      <td>2</td>\n",
       "      <td>Following</td>\n",
       "      <td>1998</td>\n",
       "    </tr>\n",
       "    <tr>\n",
       "      <th>3</th>\n",
       "      <td>3</td>\n",
       "      <td>El mariachi</td>\n",
       "      <td>1992</td>\n",
       "    </tr>\n",
       "    <tr>\n",
       "      <th>4</th>\n",
       "      <td>4</td>\n",
       "      <td>Primer</td>\n",
       "      <td>2004</td>\n",
       "    </tr>\n",
       "  </tbody>\n",
       "</table>\n",
       "</div>"
      ],
      "text/plain": [
       "   key2       original_title  year\n",
       "0     0  The Devil's Doorway  2018\n",
       "1     1        The Reception  2005\n",
       "2     2            Following  1998\n",
       "3     3          El mariachi  1992\n",
       "4     4               Primer  2004"
      ]
     },
     "execution_count": 25,
     "metadata": {},
     "output_type": "execute_result"
    }
   ],
   "source": [
    "# Grabbing original movies data\n",
    "movies_df.reset_index(inplace=True)\n",
    "movies_df1 = movies_df.rename(columns={'index':'key2'})\n",
    "# movies_df2 = movies_df1[[\"key2\", \"original_title\", \"year\", \"duration\"]]\n",
    "movies_df1.head()"
   ]
  },
  {
   "cell_type": "code",
   "execution_count": 26,
   "metadata": {},
   "outputs": [
    {
     "data": {
      "text/html": [
       "<div>\n",
       "<style scoped>\n",
       "    .dataframe tbody tr th:only-of-type {\n",
       "        vertical-align: middle;\n",
       "    }\n",
       "\n",
       "    .dataframe tbody tr th {\n",
       "        vertical-align: top;\n",
       "    }\n",
       "\n",
       "    .dataframe thead th {\n",
       "        text-align: right;\n",
       "    }\n",
       "</style>\n",
       "<table border=\"1\" class=\"dataframe\">\n",
       "  <thead>\n",
       "    <tr style=\"text-align: right;\">\n",
       "      <th></th>\n",
       "      <th>key2</th>\n",
       "      <th>original_title</th>\n",
       "      <th>year</th>\n",
       "      <th>key</th>\n",
       "      <th>Actual</th>\n",
       "      <th>Predicted</th>\n",
       "    </tr>\n",
       "  </thead>\n",
       "  <tbody>\n",
       "    <tr>\n",
       "      <th>0</th>\n",
       "      <td>4</td>\n",
       "      <td>Primer</td>\n",
       "      <td>2004</td>\n",
       "      <td>1497</td>\n",
       "      <td>0</td>\n",
       "      <td>1</td>\n",
       "    </tr>\n",
       "    <tr>\n",
       "      <th>1</th>\n",
       "      <td>8</td>\n",
       "      <td>Film Geek</td>\n",
       "      <td>2005</td>\n",
       "      <td>503</td>\n",
       "      <td>1</td>\n",
       "      <td>0</td>\n",
       "    </tr>\n",
       "    <tr>\n",
       "      <th>2</th>\n",
       "      <td>10</td>\n",
       "      <td>Viola</td>\n",
       "      <td>2012</td>\n",
       "      <td>607</td>\n",
       "      <td>0</td>\n",
       "      <td>1</td>\n",
       "    </tr>\n",
       "    <tr>\n",
       "      <th>3</th>\n",
       "      <td>28</td>\n",
       "      <td>Never Been Thawed</td>\n",
       "      <td>2005</td>\n",
       "      <td>354</td>\n",
       "      <td>1</td>\n",
       "      <td>0</td>\n",
       "    </tr>\n",
       "    <tr>\n",
       "      <th>4</th>\n",
       "      <td>36</td>\n",
       "      <td>Virgin</td>\n",
       "      <td>2003</td>\n",
       "      <td>1508</td>\n",
       "      <td>0</td>\n",
       "      <td>0</td>\n",
       "    </tr>\n",
       "  </tbody>\n",
       "</table>\n",
       "</div>"
      ],
      "text/plain": [
       "   key2     original_title  year   key  Actual  Predicted\n",
       "0     4             Primer  2004  1497       0          1\n",
       "1     8          Film Geek  2005   503       1          0\n",
       "2    10              Viola  2012   607       0          1\n",
       "3    28  Never Been Thawed  2005   354       1          0\n",
       "4    36             Virgin  2003  1508       0          0"
      ]
     },
     "execution_count": 26,
     "metadata": {},
     "output_type": "execute_result"
    }
   ],
   "source": [
    "# Merging the data to get the DF to load to CSV\n",
    "merged_df0 = pd.merge(movies_df1, test_movies_df3, on=\"key2\")\n",
    "merged_df1 = pd.merge(merged_df0, actual_df2, on=\"key\")\n",
    "merged_df2 = pd.merge(merged_df1, predicted_df2, on=\"key\")\n",
    "merged_df2.head()"
   ]
  },
  {
   "cell_type": "code",
   "execution_count": 27,
   "metadata": {},
   "outputs": [],
   "source": [
    "merged_final_df = merged_df2[[\"key\", \"key2\", \"original_title\", \"year\", \"Actual\", \"Predicted\" ]]"
   ]
  },
  {
   "cell_type": "markdown",
   "metadata": {},
   "source": [
    "## Save to CSV"
   ]
  },
  {
   "cell_type": "code",
   "execution_count": 28,
   "metadata": {},
   "outputs": [],
   "source": [
    "# Save to file\n",
    "merged_final_df.to_csv('profit_predict_vs_actual.csv', index=False)"
   ]
  },
  {
   "cell_type": "markdown",
   "metadata": {},
   "source": [
    "# New Model Build On Rating"
   ]
  },
  {
   "cell_type": "code",
   "execution_count": 29,
   "metadata": {},
   "outputs": [
    {
     "data": {
      "text/html": [
       "<div>\n",
       "<style scoped>\n",
       "    .dataframe tbody tr th:only-of-type {\n",
       "        vertical-align: middle;\n",
       "    }\n",
       "\n",
       "    .dataframe tbody tr th {\n",
       "        vertical-align: top;\n",
       "    }\n",
       "\n",
       "    .dataframe thead th {\n",
       "        text-align: right;\n",
       "    }\n",
       "</style>\n",
       "<table border=\"1\" class=\"dataframe\">\n",
       "  <thead>\n",
       "    <tr style=\"text-align: right;\">\n",
       "      <th></th>\n",
       "      <th>original_title</th>\n",
       "      <th>year</th>\n",
       "      <th>genre</th>\n",
       "      <th>director</th>\n",
       "      <th>actors</th>\n",
       "      <th>budget</th>\n",
       "      <th>worlwide_gross_income</th>\n",
       "      <th>metascore</th>\n",
       "      <th>revenue_percent</th>\n",
       "      <th>Lalor Roddy</th>\n",
       "      <th>...</th>\n",
       "      <th>Robert Stromberg</th>\n",
       "      <th>Mark Andrews</th>\n",
       "      <th>Jordan Vogt-Roberts</th>\n",
       "      <th>Bradford Lewis</th>\n",
       "      <th>Dan Scanlon</th>\n",
       "      <th>Josh Cooley</th>\n",
       "      <th>Peter Sohn</th>\n",
       "      <th>Angus MacLane</th>\n",
       "      <th>Simon Kinberg</th>\n",
       "      <th>Nathan Greno</th>\n",
       "    </tr>\n",
       "  </thead>\n",
       "  <tbody>\n",
       "    <tr>\n",
       "      <th>0</th>\n",
       "      <td>The Devil's Doorway</td>\n",
       "      <td>2018</td>\n",
       "      <td>Horror</td>\n",
       "      <td>Aislinn Clarke</td>\n",
       "      <td>Lalor Roddy, Ciaran Flynn, Helena Bereen, Laur...</td>\n",
       "      <td>1.0</td>\n",
       "      <td>516660.0</td>\n",
       "      <td>48.0</td>\n",
       "      <td>51665900.00</td>\n",
       "      <td>1.0</td>\n",
       "      <td>...</td>\n",
       "      <td>0.0</td>\n",
       "      <td>0.0</td>\n",
       "      <td>0.0</td>\n",
       "      <td>0.0</td>\n",
       "      <td>0.0</td>\n",
       "      <td>0.0</td>\n",
       "      <td>0.0</td>\n",
       "      <td>0.0</td>\n",
       "      <td>0.0</td>\n",
       "      <td>0.0</td>\n",
       "    </tr>\n",
       "    <tr>\n",
       "      <th>1</th>\n",
       "      <td>The Reception</td>\n",
       "      <td>2005</td>\n",
       "      <td>Comedy, Drama, Romance</td>\n",
       "      <td>John G. Young</td>\n",
       "      <td>Maggie Burkwit, Chris Burmester, Darien Sills-...</td>\n",
       "      <td>5000.0</td>\n",
       "      <td>18389.0</td>\n",
       "      <td>64.0</td>\n",
       "      <td>267.78</td>\n",
       "      <td>0.0</td>\n",
       "      <td>...</td>\n",
       "      <td>0.0</td>\n",
       "      <td>0.0</td>\n",
       "      <td>0.0</td>\n",
       "      <td>0.0</td>\n",
       "      <td>0.0</td>\n",
       "      <td>0.0</td>\n",
       "      <td>0.0</td>\n",
       "      <td>0.0</td>\n",
       "      <td>0.0</td>\n",
       "      <td>0.0</td>\n",
       "    </tr>\n",
       "    <tr>\n",
       "      <th>2</th>\n",
       "      <td>Following</td>\n",
       "      <td>1998</td>\n",
       "      <td>Crime, Mystery, Thriller</td>\n",
       "      <td>Christopher Nolan</td>\n",
       "      <td>Jeremy Theobald, Alex Haw, Lucy Russell, John ...</td>\n",
       "      <td>6000.0</td>\n",
       "      <td>48482.0</td>\n",
       "      <td>60.0</td>\n",
       "      <td>708.03</td>\n",
       "      <td>0.0</td>\n",
       "      <td>...</td>\n",
       "      <td>0.0</td>\n",
       "      <td>0.0</td>\n",
       "      <td>0.0</td>\n",
       "      <td>0.0</td>\n",
       "      <td>0.0</td>\n",
       "      <td>0.0</td>\n",
       "      <td>0.0</td>\n",
       "      <td>0.0</td>\n",
       "      <td>0.0</td>\n",
       "      <td>0.0</td>\n",
       "    </tr>\n",
       "    <tr>\n",
       "      <th>3</th>\n",
       "      <td>El mariachi</td>\n",
       "      <td>1992</td>\n",
       "      <td>Action, Crime, Thriller</td>\n",
       "      <td>Robert Rodriguez</td>\n",
       "      <td>Carlos Gallardo, Consuelo Gómez, Jaime de Hoyo...</td>\n",
       "      <td>7000.0</td>\n",
       "      <td>2040920.0</td>\n",
       "      <td>73.0</td>\n",
       "      <td>29056.00</td>\n",
       "      <td>0.0</td>\n",
       "      <td>...</td>\n",
       "      <td>0.0</td>\n",
       "      <td>0.0</td>\n",
       "      <td>0.0</td>\n",
       "      <td>0.0</td>\n",
       "      <td>0.0</td>\n",
       "      <td>0.0</td>\n",
       "      <td>0.0</td>\n",
       "      <td>0.0</td>\n",
       "      <td>0.0</td>\n",
       "      <td>0.0</td>\n",
       "    </tr>\n",
       "    <tr>\n",
       "      <th>4</th>\n",
       "      <td>Primer</td>\n",
       "      <td>2004</td>\n",
       "      <td>Drama, Sci-Fi, Thriller</td>\n",
       "      <td>Shane Carruth</td>\n",
       "      <td>Shane Carruth, David Sullivan, Casey Gooden, A...</td>\n",
       "      <td>7000.0</td>\n",
       "      <td>545436.0</td>\n",
       "      <td>68.0</td>\n",
       "      <td>7691.94</td>\n",
       "      <td>0.0</td>\n",
       "      <td>...</td>\n",
       "      <td>0.0</td>\n",
       "      <td>0.0</td>\n",
       "      <td>0.0</td>\n",
       "      <td>0.0</td>\n",
       "      <td>0.0</td>\n",
       "      <td>0.0</td>\n",
       "      <td>0.0</td>\n",
       "      <td>0.0</td>\n",
       "      <td>0.0</td>\n",
       "      <td>0.0</td>\n",
       "    </tr>\n",
       "  </tbody>\n",
       "</table>\n",
       "<p>5 rows × 10486 columns</p>\n",
       "</div>"
      ],
      "text/plain": [
       "        original_title  year                     genre           director  \\\n",
       "0  The Devil's Doorway  2018                    Horror     Aislinn Clarke   \n",
       "1        The Reception  2005    Comedy, Drama, Romance      John G. Young   \n",
       "2            Following  1998  Crime, Mystery, Thriller  Christopher Nolan   \n",
       "3          El mariachi  1992   Action, Crime, Thriller   Robert Rodriguez   \n",
       "4               Primer  2004   Drama, Sci-Fi, Thriller      Shane Carruth   \n",
       "\n",
       "                                              actors  budget  \\\n",
       "0  Lalor Roddy, Ciaran Flynn, Helena Bereen, Laur...     1.0   \n",
       "1  Maggie Burkwit, Chris Burmester, Darien Sills-...  5000.0   \n",
       "2  Jeremy Theobald, Alex Haw, Lucy Russell, John ...  6000.0   \n",
       "3  Carlos Gallardo, Consuelo Gómez, Jaime de Hoyo...  7000.0   \n",
       "4  Shane Carruth, David Sullivan, Casey Gooden, A...  7000.0   \n",
       "\n",
       "   worlwide_gross_income  metascore  revenue_percent  Lalor Roddy  ...  \\\n",
       "0               516660.0       48.0      51665900.00          1.0  ...   \n",
       "1                18389.0       64.0           267.78          0.0  ...   \n",
       "2                48482.0       60.0           708.03          0.0  ...   \n",
       "3              2040920.0       73.0         29056.00          0.0  ...   \n",
       "4               545436.0       68.0          7691.94          0.0  ...   \n",
       "\n",
       "   Robert Stromberg  Mark Andrews  Jordan Vogt-Roberts  Bradford Lewis  \\\n",
       "0               0.0           0.0                  0.0             0.0   \n",
       "1               0.0           0.0                  0.0             0.0   \n",
       "2               0.0           0.0                  0.0             0.0   \n",
       "3               0.0           0.0                  0.0             0.0   \n",
       "4               0.0           0.0                  0.0             0.0   \n",
       "\n",
       "   Dan Scanlon  Josh Cooley  Peter Sohn  Angus MacLane  Simon Kinberg  \\\n",
       "0          0.0          0.0         0.0            0.0            0.0   \n",
       "1          0.0          0.0         0.0            0.0            0.0   \n",
       "2          0.0          0.0         0.0            0.0            0.0   \n",
       "3          0.0          0.0         0.0            0.0            0.0   \n",
       "4          0.0          0.0         0.0            0.0            0.0   \n",
       "\n",
       "   Nathan Greno  \n",
       "0           0.0  \n",
       "1           0.0  \n",
       "2           0.0  \n",
       "3           0.0  \n",
       "4           0.0  \n",
       "\n",
       "[5 rows x 10486 columns]"
      ]
     },
     "execution_count": 29,
     "metadata": {},
     "output_type": "execute_result"
    }
   ],
   "source": [
    "# read in the data\n",
    "movies2 = pd.read_csv('moviesClean.csv')\n",
    "movies_df = movies2[[\"original_title\", \"year\"]]\n",
    "movies2.head()"
   ]
  },
  {
   "cell_type": "markdown",
   "metadata": {},
   "source": [
    "Categories from: https://www.metacritic.com/about-metascores#:~:text=Metacritic%20designates%20a%20movie%20as,section%20of%20the%20best%20critics..\n",
    "\n",
    "![title](static/theme_pics/metascore.png)"
   ]
  },
  {
   "cell_type": "code",
   "execution_count": 30,
   "metadata": {},
   "outputs": [],
   "source": [
    "# Verifying top scores in order to standardize\n",
    "# test_df = movies.sort_values(\"metascore\", ascending=False)\n",
    "# test_score_df = test_df['metascore']\n",
    "# test_score_df.head()"
   ]
  },
  {
   "cell_type": "code",
   "execution_count": 31,
   "metadata": {},
   "outputs": [],
   "source": [
    "# Calculate Revenue % Column\n",
    "# movies2['success_score'] = (movies['metascore'] / 100)\n",
    "\n",
    "# movies2.head()\n",
    "\n",
    "# Walk down the dataframe, movie by movie to get metascore categories\n",
    "for index, row in movies2.iterrows():\n",
    "    \n",
    "    if row['metascore'] > 60:\n",
    "        movies2.loc[index, 'Favorable to Great'] = 1\n",
    "    else: \n",
    "        movies2.loc[index, 'Favorable to Great'] = 0"
   ]
  },
  {
   "cell_type": "code",
   "execution_count": 32,
   "metadata": {},
   "outputs": [
    {
     "data": {
      "text/html": [
       "<div>\n",
       "<style scoped>\n",
       "    .dataframe tbody tr th:only-of-type {\n",
       "        vertical-align: middle;\n",
       "    }\n",
       "\n",
       "    .dataframe tbody tr th {\n",
       "        vertical-align: top;\n",
       "    }\n",
       "\n",
       "    .dataframe thead th {\n",
       "        text-align: right;\n",
       "    }\n",
       "</style>\n",
       "<table border=\"1\" class=\"dataframe\">\n",
       "  <thead>\n",
       "    <tr style=\"text-align: right;\">\n",
       "      <th></th>\n",
       "      <th>original_title</th>\n",
       "      <th>year</th>\n",
       "      <th>genre</th>\n",
       "      <th>director</th>\n",
       "      <th>actors</th>\n",
       "      <th>budget</th>\n",
       "      <th>worlwide_gross_income</th>\n",
       "      <th>metascore</th>\n",
       "      <th>revenue_percent</th>\n",
       "      <th>Lalor Roddy</th>\n",
       "      <th>...</th>\n",
       "      <th>Mark Andrews</th>\n",
       "      <th>Jordan Vogt-Roberts</th>\n",
       "      <th>Bradford Lewis</th>\n",
       "      <th>Dan Scanlon</th>\n",
       "      <th>Josh Cooley</th>\n",
       "      <th>Peter Sohn</th>\n",
       "      <th>Angus MacLane</th>\n",
       "      <th>Simon Kinberg</th>\n",
       "      <th>Nathan Greno</th>\n",
       "      <th>Favorable to Great</th>\n",
       "    </tr>\n",
       "  </thead>\n",
       "  <tbody>\n",
       "    <tr>\n",
       "      <th>0</th>\n",
       "      <td>The Devil's Doorway</td>\n",
       "      <td>2018</td>\n",
       "      <td>Horror</td>\n",
       "      <td>Aislinn Clarke</td>\n",
       "      <td>Lalor Roddy, Ciaran Flynn, Helena Bereen, Laur...</td>\n",
       "      <td>1.0</td>\n",
       "      <td>516660.0</td>\n",
       "      <td>48.0</td>\n",
       "      <td>51665900.00</td>\n",
       "      <td>1.0</td>\n",
       "      <td>...</td>\n",
       "      <td>0.0</td>\n",
       "      <td>0.0</td>\n",
       "      <td>0.0</td>\n",
       "      <td>0.0</td>\n",
       "      <td>0.0</td>\n",
       "      <td>0.0</td>\n",
       "      <td>0.0</td>\n",
       "      <td>0.0</td>\n",
       "      <td>0.0</td>\n",
       "      <td>0.0</td>\n",
       "    </tr>\n",
       "    <tr>\n",
       "      <th>1</th>\n",
       "      <td>The Reception</td>\n",
       "      <td>2005</td>\n",
       "      <td>Comedy, Drama, Romance</td>\n",
       "      <td>John G. Young</td>\n",
       "      <td>Maggie Burkwit, Chris Burmester, Darien Sills-...</td>\n",
       "      <td>5000.0</td>\n",
       "      <td>18389.0</td>\n",
       "      <td>64.0</td>\n",
       "      <td>267.78</td>\n",
       "      <td>0.0</td>\n",
       "      <td>...</td>\n",
       "      <td>0.0</td>\n",
       "      <td>0.0</td>\n",
       "      <td>0.0</td>\n",
       "      <td>0.0</td>\n",
       "      <td>0.0</td>\n",
       "      <td>0.0</td>\n",
       "      <td>0.0</td>\n",
       "      <td>0.0</td>\n",
       "      <td>0.0</td>\n",
       "      <td>1.0</td>\n",
       "    </tr>\n",
       "    <tr>\n",
       "      <th>2</th>\n",
       "      <td>Following</td>\n",
       "      <td>1998</td>\n",
       "      <td>Crime, Mystery, Thriller</td>\n",
       "      <td>Christopher Nolan</td>\n",
       "      <td>Jeremy Theobald, Alex Haw, Lucy Russell, John ...</td>\n",
       "      <td>6000.0</td>\n",
       "      <td>48482.0</td>\n",
       "      <td>60.0</td>\n",
       "      <td>708.03</td>\n",
       "      <td>0.0</td>\n",
       "      <td>...</td>\n",
       "      <td>0.0</td>\n",
       "      <td>0.0</td>\n",
       "      <td>0.0</td>\n",
       "      <td>0.0</td>\n",
       "      <td>0.0</td>\n",
       "      <td>0.0</td>\n",
       "      <td>0.0</td>\n",
       "      <td>0.0</td>\n",
       "      <td>0.0</td>\n",
       "      <td>0.0</td>\n",
       "    </tr>\n",
       "    <tr>\n",
       "      <th>3</th>\n",
       "      <td>El mariachi</td>\n",
       "      <td>1992</td>\n",
       "      <td>Action, Crime, Thriller</td>\n",
       "      <td>Robert Rodriguez</td>\n",
       "      <td>Carlos Gallardo, Consuelo Gómez, Jaime de Hoyo...</td>\n",
       "      <td>7000.0</td>\n",
       "      <td>2040920.0</td>\n",
       "      <td>73.0</td>\n",
       "      <td>29056.00</td>\n",
       "      <td>0.0</td>\n",
       "      <td>...</td>\n",
       "      <td>0.0</td>\n",
       "      <td>0.0</td>\n",
       "      <td>0.0</td>\n",
       "      <td>0.0</td>\n",
       "      <td>0.0</td>\n",
       "      <td>0.0</td>\n",
       "      <td>0.0</td>\n",
       "      <td>0.0</td>\n",
       "      <td>0.0</td>\n",
       "      <td>1.0</td>\n",
       "    </tr>\n",
       "    <tr>\n",
       "      <th>4</th>\n",
       "      <td>Primer</td>\n",
       "      <td>2004</td>\n",
       "      <td>Drama, Sci-Fi, Thriller</td>\n",
       "      <td>Shane Carruth</td>\n",
       "      <td>Shane Carruth, David Sullivan, Casey Gooden, A...</td>\n",
       "      <td>7000.0</td>\n",
       "      <td>545436.0</td>\n",
       "      <td>68.0</td>\n",
       "      <td>7691.94</td>\n",
       "      <td>0.0</td>\n",
       "      <td>...</td>\n",
       "      <td>0.0</td>\n",
       "      <td>0.0</td>\n",
       "      <td>0.0</td>\n",
       "      <td>0.0</td>\n",
       "      <td>0.0</td>\n",
       "      <td>0.0</td>\n",
       "      <td>0.0</td>\n",
       "      <td>0.0</td>\n",
       "      <td>0.0</td>\n",
       "      <td>1.0</td>\n",
       "    </tr>\n",
       "  </tbody>\n",
       "</table>\n",
       "<p>5 rows × 10487 columns</p>\n",
       "</div>"
      ],
      "text/plain": [
       "        original_title  year                     genre           director  \\\n",
       "0  The Devil's Doorway  2018                    Horror     Aislinn Clarke   \n",
       "1        The Reception  2005    Comedy, Drama, Romance      John G. Young   \n",
       "2            Following  1998  Crime, Mystery, Thriller  Christopher Nolan   \n",
       "3          El mariachi  1992   Action, Crime, Thriller   Robert Rodriguez   \n",
       "4               Primer  2004   Drama, Sci-Fi, Thriller      Shane Carruth   \n",
       "\n",
       "                                              actors  budget  \\\n",
       "0  Lalor Roddy, Ciaran Flynn, Helena Bereen, Laur...     1.0   \n",
       "1  Maggie Burkwit, Chris Burmester, Darien Sills-...  5000.0   \n",
       "2  Jeremy Theobald, Alex Haw, Lucy Russell, John ...  6000.0   \n",
       "3  Carlos Gallardo, Consuelo Gómez, Jaime de Hoyo...  7000.0   \n",
       "4  Shane Carruth, David Sullivan, Casey Gooden, A...  7000.0   \n",
       "\n",
       "   worlwide_gross_income  metascore  revenue_percent  Lalor Roddy  ...  \\\n",
       "0               516660.0       48.0      51665900.00          1.0  ...   \n",
       "1                18389.0       64.0           267.78          0.0  ...   \n",
       "2                48482.0       60.0           708.03          0.0  ...   \n",
       "3              2040920.0       73.0         29056.00          0.0  ...   \n",
       "4               545436.0       68.0          7691.94          0.0  ...   \n",
       "\n",
       "   Mark Andrews  Jordan Vogt-Roberts  Bradford Lewis  Dan Scanlon  \\\n",
       "0           0.0                  0.0             0.0          0.0   \n",
       "1           0.0                  0.0             0.0          0.0   \n",
       "2           0.0                  0.0             0.0          0.0   \n",
       "3           0.0                  0.0             0.0          0.0   \n",
       "4           0.0                  0.0             0.0          0.0   \n",
       "\n",
       "   Josh Cooley  Peter Sohn  Angus MacLane  Simon Kinberg  Nathan Greno  \\\n",
       "0          0.0         0.0            0.0            0.0           0.0   \n",
       "1          0.0         0.0            0.0            0.0           0.0   \n",
       "2          0.0         0.0            0.0            0.0           0.0   \n",
       "3          0.0         0.0            0.0            0.0           0.0   \n",
       "4          0.0         0.0            0.0            0.0           0.0   \n",
       "\n",
       "   Favorable to Great  \n",
       "0                 0.0  \n",
       "1                 1.0  \n",
       "2                 0.0  \n",
       "3                 1.0  \n",
       "4                 1.0  \n",
       "\n",
       "[5 rows x 10487 columns]"
      ]
     },
     "execution_count": 32,
     "metadata": {},
     "output_type": "execute_result"
    }
   ],
   "source": [
    "movies2.head()"
   ]
  },
  {
   "cell_type": "code",
   "execution_count": 33,
   "metadata": {},
   "outputs": [
    {
     "data": {
      "text/plain": [
       "(6379, 10477)"
      ]
     },
     "execution_count": 33,
     "metadata": {},
     "output_type": "execute_result"
    }
   ],
   "source": [
    "movies2.drop(columns=['original_title', 'year', 'genre', 'director', 'actors',\n",
    "                     'budget', 'worlwide_gross_income', 'metascore', 'success',\n",
    "                     'revenue_percent' \n",
    "                       ], inplace=True)\n",
    "movies2.shape"
   ]
  },
  {
   "cell_type": "code",
   "execution_count": 34,
   "metadata": {},
   "outputs": [
    {
     "name": "stdout",
     "output_type": "stream",
     "text": [
      "(6379, 10476) (6379, 1)\n"
     ]
    }
   ],
   "source": [
    "# from sklearn.datasets import make_classification\n",
    "\n",
    "X2 = movies2.drop('Favorable to Great', axis = 1)\n",
    "y2 = movies2['Favorable to Great']\n",
    "\n",
    "y2 = y2.values.reshape(-1, 1)\n",
    "\n",
    "print(X2.shape, y2.shape)"
   ]
  },
  {
   "cell_type": "code",
   "execution_count": 35,
   "metadata": {},
   "outputs": [],
   "source": [
    "# create training and testing data\n",
    "from sklearn.model_selection import train_test_split\n",
    "\n",
    "X_train2, X_test2, y_train2, y_test2 = train_test_split(X2, y2, random_state=1)"
   ]
  },
  {
   "cell_type": "code",
   "execution_count": 36,
   "metadata": {},
   "outputs": [
    {
     "name": "stdout",
     "output_type": "stream",
     "text": [
      "(4784, 10476) (1595, 10476)\n"
     ]
    }
   ],
   "source": [
    "print(X_train2.shape, X_test2.shape)"
   ]
  },
  {
   "cell_type": "markdown",
   "metadata": {},
   "source": [
    "## Data Pre-Processing"
   ]
  },
  {
   "cell_type": "code",
   "execution_count": 37,
   "metadata": {},
   "outputs": [],
   "source": [
    "# scale the data\n",
    "from sklearn.preprocessing import StandardScaler\n",
    "\n",
    "X_scaler2 = StandardScaler().fit(X_train2)"
   ]
  },
  {
   "cell_type": "code",
   "execution_count": 38,
   "metadata": {},
   "outputs": [],
   "source": [
    "# scale both training and testing data\n",
    "X_train_scaled2 = X_scaler2.transform(X_train2)\n",
    "X_test_scaled2 = X_scaler2.transform(X_test2)"
   ]
  },
  {
   "cell_type": "code",
   "execution_count": 39,
   "metadata": {},
   "outputs": [],
   "source": [
    "from tensorflow.keras.utils import to_categorical"
   ]
  },
  {
   "cell_type": "code",
   "execution_count": 40,
   "metadata": {},
   "outputs": [
    {
     "data": {
      "text/plain": [
       "array([[1., 0.],\n",
       "       [1., 0.],\n",
       "       [1., 0.],\n",
       "       ...,\n",
       "       [1., 0.],\n",
       "       [1., 0.],\n",
       "       [1., 0.]], dtype=float32)"
      ]
     },
     "execution_count": 40,
     "metadata": {},
     "output_type": "execute_result"
    }
   ],
   "source": [
    "# One-hot encoding\n",
    "y_train_categorical2 = to_categorical(y_train2)\n",
    "y_test_categorical2 = to_categorical(y_test2)\n",
    "y_train_categorical2"
   ]
  },
  {
   "cell_type": "code",
   "execution_count": 41,
   "metadata": {},
   "outputs": [
    {
     "name": "stderr",
     "output_type": "stream",
     "text": [
      "C:\\Users\\mmidw\\anaconda3\\envs\\PythonML\\lib\\site-packages\\sklearn\\utils\\validation.py:72: DataConversionWarning: A column-vector y was passed when a 1d array was expected. Please change the shape of y to (n_samples, ), for example using ravel().\n",
      "  return f(**kwargs)\n"
     ]
    }
   ],
   "source": [
    "from sklearn.preprocessing import LabelEncoder\n",
    "\n",
    "# Step 1: Label-encode data set\n",
    "label_encoder = LabelEncoder()\n",
    "label_encoder.fit(y2)\n",
    "encoded_y = label_encoder.transform(y2)\n"
   ]
  },
  {
   "cell_type": "markdown",
   "metadata": {},
   "source": [
    "## Create the Model"
   ]
  },
  {
   "cell_type": "code",
   "execution_count": 42,
   "metadata": {},
   "outputs": [],
   "source": [
    "# create a sequential model\n",
    "from tensorflow.keras.models import Sequential\n",
    "\n",
    "model2 = Sequential()"
   ]
  },
  {
   "cell_type": "code",
   "execution_count": 43,
   "metadata": {},
   "outputs": [],
   "source": [
    "# add the first layer. The number of inputs must be equal to the\n",
    "# number of columns\n",
    "from tensorflow.keras.layers import Dense\n",
    "number_inputs = 10476\n",
    "number_hidden_nodes = 800\n",
    "model2.add(Dense(units=number_hidden_nodes,\n",
    "                activation='relu', input_dim=number_inputs))"
   ]
  },
  {
   "cell_type": "code",
   "execution_count": 44,
   "metadata": {},
   "outputs": [],
   "source": [
    "# add the final layer. number_classes is the number of labels to predict.\n",
    "number_classes = 2\n",
    "model2.add(Dense(units=number_classes, activation='softmax'))"
   ]
  },
  {
   "cell_type": "markdown",
   "metadata": {},
   "source": [
    "## Model Summary"
   ]
  },
  {
   "cell_type": "code",
   "execution_count": 45,
   "metadata": {},
   "outputs": [
    {
     "name": "stdout",
     "output_type": "stream",
     "text": [
      "Model: \"sequential_1\"\n",
      "_________________________________________________________________\n",
      "Layer (type)                 Output Shape              Param #   \n",
      "=================================================================\n",
      "dense_2 (Dense)              (None, 800)               8381600   \n",
      "_________________________________________________________________\n",
      "dense_3 (Dense)              (None, 2)                 1602      \n",
      "=================================================================\n",
      "Total params: 8,383,202\n",
      "Trainable params: 8,383,202\n",
      "Non-trainable params: 0\n",
      "_________________________________________________________________\n"
     ]
    }
   ],
   "source": [
    "model2.summary()"
   ]
  },
  {
   "cell_type": "markdown",
   "metadata": {},
   "source": [
    "## Compile the Model"
   ]
  },
  {
   "cell_type": "code",
   "execution_count": 46,
   "metadata": {},
   "outputs": [],
   "source": [
    "# Use categorical crossentropy for categorical data and mean squared error for regression\n",
    "# Hint: your output layer in this example is using software for logistic regression (categorical)\n",
    "# If your output layer activation was `linear` then you may want to use `mse` for loss\n",
    "model2.compile(optimizer='adam',\n",
    "              loss='categorical_crossentropy',\n",
    "              metrics=['accuracy'])"
   ]
  },
  {
   "cell_type": "markdown",
   "metadata": {},
   "source": [
    "## Train the Model"
   ]
  },
  {
   "cell_type": "code",
   "execution_count": 47,
   "metadata": {},
   "outputs": [
    {
     "name": "stdout",
     "output_type": "stream",
     "text": [
      "Train on 4784 samples\n",
      "Epoch 1/50\n",
      "4784/4784 - 8s - loss: 1.7905 - accuracy: 0.5753\n",
      "Epoch 2/50\n",
      "4784/4784 - 7s - loss: 0.3794 - accuracy: 0.8691\n",
      "Epoch 3/50\n",
      "4784/4784 - 7s - loss: 0.1167 - accuracy: 0.9634\n",
      "Epoch 4/50\n",
      "4784/4784 - 7s - loss: 0.0764 - accuracy: 0.9776\n",
      "Epoch 5/50\n",
      "4784/4784 - 7s - loss: 0.0507 - accuracy: 0.9845\n",
      "Epoch 6/50\n",
      "4784/4784 - 8s - loss: 0.0330 - accuracy: 0.9900\n",
      "Epoch 7/50\n",
      "4784/4784 - 7s - loss: 0.0241 - accuracy: 0.9933\n",
      "Epoch 8/50\n",
      "4784/4784 - 7s - loss: 0.0189 - accuracy: 0.9933\n",
      "Epoch 9/50\n",
      "4784/4784 - 7s - loss: 0.0158 - accuracy: 0.9952\n",
      "Epoch 10/50\n",
      "4784/4784 - 8s - loss: 0.0140 - accuracy: 0.9944\n",
      "Epoch 11/50\n",
      "4784/4784 - 7s - loss: 0.0116 - accuracy: 0.9956\n",
      "Epoch 12/50\n",
      "4784/4784 - 7s - loss: 0.0117 - accuracy: 0.9950\n",
      "Epoch 13/50\n",
      "4784/4784 - 7s - loss: 0.0105 - accuracy: 0.9952\n",
      "Epoch 14/50\n",
      "4784/4784 - 7s - loss: 0.0101 - accuracy: 0.9954\n",
      "Epoch 15/50\n",
      "4784/4784 - 7s - loss: 0.0095 - accuracy: 0.9956\n",
      "Epoch 16/50\n",
      "4784/4784 - 7s - loss: 0.0086 - accuracy: 0.9944\n",
      "Epoch 17/50\n",
      "4784/4784 - 8s - loss: 0.0092 - accuracy: 0.9958\n",
      "Epoch 18/50\n",
      "4784/4784 - 7s - loss: 0.0085 - accuracy: 0.9960\n",
      "Epoch 19/50\n",
      "4784/4784 - 7s - loss: 0.0082 - accuracy: 0.9958\n",
      "Epoch 20/50\n",
      "4784/4784 - 7s - loss: 0.0084 - accuracy: 0.9960\n",
      "Epoch 21/50\n",
      "4784/4784 - 7s - loss: 0.0080 - accuracy: 0.9948\n",
      "Epoch 22/50\n",
      "4784/4784 - 7s - loss: 0.0082 - accuracy: 0.9956\n",
      "Epoch 23/50\n",
      "4784/4784 - 7s - loss: 0.0079 - accuracy: 0.9950\n",
      "Epoch 24/50\n",
      "4784/4784 - 8s - loss: 0.0075 - accuracy: 0.9956\n",
      "Epoch 25/50\n",
      "4784/4784 - 7s - loss: 0.0082 - accuracy: 0.9954\n",
      "Epoch 26/50\n",
      "4784/4784 - 7s - loss: 0.0078 - accuracy: 0.9958\n",
      "Epoch 27/50\n",
      "4784/4784 - 7s - loss: 0.0082 - accuracy: 0.9948\n",
      "Epoch 28/50\n",
      "4784/4784 - 7s - loss: 0.0078 - accuracy: 0.9952\n",
      "Epoch 29/50\n",
      "4784/4784 - 7s - loss: 0.0078 - accuracy: 0.9954\n",
      "Epoch 30/50\n",
      "4784/4784 - 7s - loss: 0.0071 - accuracy: 0.9952\n",
      "Epoch 31/50\n",
      "4784/4784 - 7s - loss: 0.0073 - accuracy: 0.9956\n",
      "Epoch 32/50\n",
      "4784/4784 - 7s - loss: 0.0079 - accuracy: 0.9950\n",
      "Epoch 33/50\n",
      "4784/4784 - 7s - loss: 0.0066 - accuracy: 0.9958\n",
      "Epoch 34/50\n",
      "4784/4784 - 7s - loss: 0.0069 - accuracy: 0.9948\n",
      "Epoch 35/50\n",
      "4784/4784 - 7s - loss: 0.0071 - accuracy: 0.9952\n",
      "Epoch 36/50\n",
      "4784/4784 - 7s - loss: 0.0068 - accuracy: 0.9958\n",
      "Epoch 37/50\n",
      "4784/4784 - 7s - loss: 0.0064 - accuracy: 0.9950\n",
      "Epoch 38/50\n",
      "4784/4784 - 7s - loss: 0.0063 - accuracy: 0.9956\n",
      "Epoch 39/50\n",
      "4784/4784 - 7s - loss: 0.0068 - accuracy: 0.9952\n",
      "Epoch 40/50\n",
      "4784/4784 - 7s - loss: 0.0062 - accuracy: 0.9956\n",
      "Epoch 41/50\n",
      "4784/4784 - 7s - loss: 0.0062 - accuracy: 0.9958\n",
      "Epoch 42/50\n",
      "4784/4784 - 7s - loss: 0.0066 - accuracy: 0.9956\n",
      "Epoch 43/50\n",
      "4784/4784 - 7s - loss: 0.0065 - accuracy: 0.9956\n",
      "Epoch 44/50\n",
      "4784/4784 - 7s - loss: 0.0062 - accuracy: 0.9960\n",
      "Epoch 45/50\n",
      "4784/4784 - 7s - loss: 0.0058 - accuracy: 0.9952\n",
      "Epoch 46/50\n",
      "4784/4784 - 7s - loss: 0.0057 - accuracy: 0.9954\n",
      "Epoch 47/50\n",
      "4784/4784 - 7s - loss: 0.0059 - accuracy: 0.9964\n",
      "Epoch 48/50\n",
      "4784/4784 - 7s - loss: 0.0055 - accuracy: 0.9962\n",
      "Epoch 49/50\n",
      "4784/4784 - 7s - loss: 0.0059 - accuracy: 0.9954\n",
      "Epoch 50/50\n",
      "4784/4784 - 7s - loss: 0.0056 - accuracy: 0.9958\n"
     ]
    },
    {
     "data": {
      "text/plain": [
       "<tensorflow.python.keras.callbacks.History at 0x23a521eee10>"
      ]
     },
     "execution_count": 47,
     "metadata": {},
     "output_type": "execute_result"
    }
   ],
   "source": [
    "# Fit (train) the model\n",
    "model2.fit(\n",
    "    X_train_scaled2,\n",
    "    y_train_categorical2,\n",
    "    epochs=50,\n",
    "    shuffle=True,\n",
    "    verbose=2\n",
    ")"
   ]
  },
  {
   "cell_type": "markdown",
   "metadata": {},
   "source": [
    "## Quantify/Test the Model"
   ]
  },
  {
   "cell_type": "code",
   "execution_count": 48,
   "metadata": {},
   "outputs": [
    {
     "name": "stdout",
     "output_type": "stream",
     "text": [
      "1595/1595 - 1s - loss: 2.0783 - accuracy: 0.6113\n",
      "Loss: 2.078326098149099, Accuracy: 0.6112852692604065\n"
     ]
    }
   ],
   "source": [
    "# Evaluate the model using the testing data\n",
    "model_loss, model_accuracy = model2.evaluate(\n",
    "    X_test_scaled2, y_test_categorical2, verbose=2)\n",
    "print(f\"Loss: {model_loss}, Accuracy: {model_accuracy}\")"
   ]
  },
  {
   "cell_type": "markdown",
   "metadata": {},
   "source": [
    "## Save the Model"
   ]
  },
  {
   "cell_type": "code",
   "execution_count": 49,
   "metadata": {},
   "outputs": [],
   "source": [
    "model2.save('classification_neural_network2.h5')"
   ]
  },
  {
   "cell_type": "markdown",
   "metadata": {},
   "source": [
    "## Gather Predictions and Actuals on test data for visualization"
   ]
  },
  {
   "cell_type": "code",
   "execution_count": 50,
   "metadata": {},
   "outputs": [],
   "source": [
    "# per the shapes above gathered the test observation counts\n",
    "encoded_predictions = model2.predict_classes(X_test_scaled2[:1595])\n",
    "prediction_labels = label_encoder.inverse_transform(encoded_predictions)"
   ]
  },
  {
   "cell_type": "code",
   "execution_count": 51,
   "metadata": {},
   "outputs": [
    {
     "name": "stdout",
     "output_type": "stream",
     "text": [
      "Predicted classes: [1. 1. 0. ... 1. 0. 0.]\n",
      "Actual Labels: [[1.]\n",
      " [1.]\n",
      " [0.]\n",
      " ...\n",
      " [0.]\n",
      " [1.]\n",
      " [0.]]\n"
     ]
    }
   ],
   "source": [
    "# Testing how it looks\n",
    "print(f\"Predicted classes: {prediction_labels}\")\n",
    "print(f\"Actual Labels: {y_test2[:1595]}\")"
   ]
  },
  {
   "cell_type": "code",
   "execution_count": 52,
   "metadata": {},
   "outputs": [
    {
     "data": {
      "text/html": [
       "<div>\n",
       "<style scoped>\n",
       "    .dataframe tbody tr th:only-of-type {\n",
       "        vertical-align: middle;\n",
       "    }\n",
       "\n",
       "    .dataframe tbody tr th {\n",
       "        vertical-align: top;\n",
       "    }\n",
       "\n",
       "    .dataframe thead th {\n",
       "        text-align: right;\n",
       "    }\n",
       "</style>\n",
       "<table border=\"1\" class=\"dataframe\">\n",
       "  <thead>\n",
       "    <tr style=\"text-align: right;\">\n",
       "      <th></th>\n",
       "      <th>key</th>\n",
       "      <th>Predicted</th>\n",
       "    </tr>\n",
       "  </thead>\n",
       "  <tbody>\n",
       "    <tr>\n",
       "      <th>0</th>\n",
       "      <td>0</td>\n",
       "      <td>1.0</td>\n",
       "    </tr>\n",
       "    <tr>\n",
       "      <th>1</th>\n",
       "      <td>1</td>\n",
       "      <td>1.0</td>\n",
       "    </tr>\n",
       "    <tr>\n",
       "      <th>2</th>\n",
       "      <td>2</td>\n",
       "      <td>0.0</td>\n",
       "    </tr>\n",
       "    <tr>\n",
       "      <th>3</th>\n",
       "      <td>3</td>\n",
       "      <td>1.0</td>\n",
       "    </tr>\n",
       "    <tr>\n",
       "      <th>4</th>\n",
       "      <td>4</td>\n",
       "      <td>1.0</td>\n",
       "    </tr>\n",
       "  </tbody>\n",
       "</table>\n",
       "</div>"
      ],
      "text/plain": [
       "   key  Predicted\n",
       "0    0        1.0\n",
       "1    1        1.0\n",
       "2    2        0.0\n",
       "3    3        1.0\n",
       "4    4        1.0"
      ]
     },
     "execution_count": 52,
     "metadata": {},
     "output_type": "execute_result"
    }
   ],
   "source": [
    "# Put the lists above for Predicted into a DF to merge together\n",
    "predicted_df = pd.DataFrame(prediction_labels)\n",
    "predicted_df.reset_index(inplace=True)\n",
    "predicted_df2 = predicted_df.rename(columns={0:\"Predicted\", 'index':'key'})\n",
    "predicted_df2.head()"
   ]
  },
  {
   "cell_type": "code",
   "execution_count": 53,
   "metadata": {},
   "outputs": [
    {
     "data": {
      "text/html": [
       "<div>\n",
       "<style scoped>\n",
       "    .dataframe tbody tr th:only-of-type {\n",
       "        vertical-align: middle;\n",
       "    }\n",
       "\n",
       "    .dataframe tbody tr th {\n",
       "        vertical-align: top;\n",
       "    }\n",
       "\n",
       "    .dataframe thead th {\n",
       "        text-align: right;\n",
       "    }\n",
       "</style>\n",
       "<table border=\"1\" class=\"dataframe\">\n",
       "  <thead>\n",
       "    <tr style=\"text-align: right;\">\n",
       "      <th></th>\n",
       "      <th>key</th>\n",
       "      <th>Actual</th>\n",
       "    </tr>\n",
       "  </thead>\n",
       "  <tbody>\n",
       "    <tr>\n",
       "      <th>0</th>\n",
       "      <td>0</td>\n",
       "      <td>1.0</td>\n",
       "    </tr>\n",
       "    <tr>\n",
       "      <th>1</th>\n",
       "      <td>1</td>\n",
       "      <td>1.0</td>\n",
       "    </tr>\n",
       "    <tr>\n",
       "      <th>2</th>\n",
       "      <td>2</td>\n",
       "      <td>0.0</td>\n",
       "    </tr>\n",
       "    <tr>\n",
       "      <th>3</th>\n",
       "      <td>3</td>\n",
       "      <td>0.0</td>\n",
       "    </tr>\n",
       "    <tr>\n",
       "      <th>4</th>\n",
       "      <td>4</td>\n",
       "      <td>0.0</td>\n",
       "    </tr>\n",
       "  </tbody>\n",
       "</table>\n",
       "</div>"
      ],
      "text/plain": [
       "   key  Actual\n",
       "0    0     1.0\n",
       "1    1     1.0\n",
       "2    2     0.0\n",
       "3    3     0.0\n",
       "4    4     0.0"
      ]
     },
     "execution_count": 53,
     "metadata": {},
     "output_type": "execute_result"
    }
   ],
   "source": [
    "# Put the lists above for Actual into a DF to merge together\n",
    "actual_df = pd.DataFrame(np.concatenate(y_test2[:1595]))\n",
    "actual_df.reset_index(inplace=True)\n",
    "actual_df2 =actual_df.rename(columns={0:\"Actual\", 'index':'key'})\n",
    "actual_df2.head()"
   ]
  },
  {
   "cell_type": "code",
   "execution_count": 54,
   "metadata": {},
   "outputs": [
    {
     "data": {
      "text/html": [
       "<div>\n",
       "<style scoped>\n",
       "    .dataframe tbody tr th:only-of-type {\n",
       "        vertical-align: middle;\n",
       "    }\n",
       "\n",
       "    .dataframe tbody tr th {\n",
       "        vertical-align: top;\n",
       "    }\n",
       "\n",
       "    .dataframe thead th {\n",
       "        text-align: right;\n",
       "    }\n",
       "</style>\n",
       "<table border=\"1\" class=\"dataframe\">\n",
       "  <thead>\n",
       "    <tr style=\"text-align: right;\">\n",
       "      <th></th>\n",
       "      <th>key</th>\n",
       "      <th>key2</th>\n",
       "    </tr>\n",
       "  </thead>\n",
       "  <tbody>\n",
       "    <tr>\n",
       "      <th>0</th>\n",
       "      <td>5861</td>\n",
       "      <td>0</td>\n",
       "    </tr>\n",
       "    <tr>\n",
       "      <th>1</th>\n",
       "      <td>4506</td>\n",
       "      <td>1</td>\n",
       "    </tr>\n",
       "    <tr>\n",
       "      <th>2</th>\n",
       "      <td>4443</td>\n",
       "      <td>2</td>\n",
       "    </tr>\n",
       "    <tr>\n",
       "      <th>3</th>\n",
       "      <td>2054</td>\n",
       "      <td>3</td>\n",
       "    </tr>\n",
       "    <tr>\n",
       "      <th>4</th>\n",
       "      <td>1497</td>\n",
       "      <td>4</td>\n",
       "    </tr>\n",
       "  </tbody>\n",
       "</table>\n",
       "</div>"
      ],
      "text/plain": [
       "    key  key2\n",
       "0  5861     0\n",
       "1  4506     1\n",
       "2  4443     2\n",
       "3  2054     3\n",
       "4  1497     4"
      ]
     },
     "execution_count": 54,
     "metadata": {},
     "output_type": "execute_result"
    }
   ],
   "source": [
    "# Grabbing X_test2 data to merge back to the original\n",
    "test_movies_df = X_test2\n",
    "test_movies_df.reset_index(inplace=True)\n",
    "test_movies_df.reset_index(inplace=True)\n",
    "test_movies_df2 = test_movies_df.rename(columns={'index':'key','level_0':'key2'}) \n",
    "test_movies_df3 = test_movies_df2[[\"key\", \"key2\"]]\n",
    "test_movies_df3.head()"
   ]
  },
  {
   "cell_type": "code",
   "execution_count": 55,
   "metadata": {},
   "outputs": [
    {
     "data": {
      "text/html": [
       "<div>\n",
       "<style scoped>\n",
       "    .dataframe tbody tr th:only-of-type {\n",
       "        vertical-align: middle;\n",
       "    }\n",
       "\n",
       "    .dataframe tbody tr th {\n",
       "        vertical-align: top;\n",
       "    }\n",
       "\n",
       "    .dataframe thead th {\n",
       "        text-align: right;\n",
       "    }\n",
       "</style>\n",
       "<table border=\"1\" class=\"dataframe\">\n",
       "  <thead>\n",
       "    <tr style=\"text-align: right;\">\n",
       "      <th></th>\n",
       "      <th>key2</th>\n",
       "      <th>original_title</th>\n",
       "      <th>year</th>\n",
       "    </tr>\n",
       "  </thead>\n",
       "  <tbody>\n",
       "    <tr>\n",
       "      <th>0</th>\n",
       "      <td>0</td>\n",
       "      <td>The Devil's Doorway</td>\n",
       "      <td>2018</td>\n",
       "    </tr>\n",
       "    <tr>\n",
       "      <th>1</th>\n",
       "      <td>1</td>\n",
       "      <td>The Reception</td>\n",
       "      <td>2005</td>\n",
       "    </tr>\n",
       "    <tr>\n",
       "      <th>2</th>\n",
       "      <td>2</td>\n",
       "      <td>Following</td>\n",
       "      <td>1998</td>\n",
       "    </tr>\n",
       "    <tr>\n",
       "      <th>3</th>\n",
       "      <td>3</td>\n",
       "      <td>El mariachi</td>\n",
       "      <td>1992</td>\n",
       "    </tr>\n",
       "    <tr>\n",
       "      <th>4</th>\n",
       "      <td>4</td>\n",
       "      <td>Primer</td>\n",
       "      <td>2004</td>\n",
       "    </tr>\n",
       "  </tbody>\n",
       "</table>\n",
       "</div>"
      ],
      "text/plain": [
       "   key2       original_title  year\n",
       "0     0  The Devil's Doorway  2018\n",
       "1     1        The Reception  2005\n",
       "2     2            Following  1998\n",
       "3     3          El mariachi  1992\n",
       "4     4               Primer  2004"
      ]
     },
     "execution_count": 55,
     "metadata": {},
     "output_type": "execute_result"
    }
   ],
   "source": [
    "# Grabbing original movies data\n",
    "movies_df.reset_index(inplace=True)\n",
    "movies_df1 = movies_df.rename(columns={'index':'key2'})\n",
    "# movies_df2 = movies_df1[[\"key2\", \"original_title\", \"year\", \"duration\"]]\n",
    "movies_df1.head()"
   ]
  },
  {
   "cell_type": "code",
   "execution_count": 56,
   "metadata": {},
   "outputs": [
    {
     "data": {
      "text/html": [
       "<div>\n",
       "<style scoped>\n",
       "    .dataframe tbody tr th:only-of-type {\n",
       "        vertical-align: middle;\n",
       "    }\n",
       "\n",
       "    .dataframe tbody tr th {\n",
       "        vertical-align: top;\n",
       "    }\n",
       "\n",
       "    .dataframe thead th {\n",
       "        text-align: right;\n",
       "    }\n",
       "</style>\n",
       "<table border=\"1\" class=\"dataframe\">\n",
       "  <thead>\n",
       "    <tr style=\"text-align: right;\">\n",
       "      <th></th>\n",
       "      <th>key2</th>\n",
       "      <th>original_title</th>\n",
       "      <th>year</th>\n",
       "      <th>key</th>\n",
       "      <th>Actual</th>\n",
       "      <th>Predicted</th>\n",
       "    </tr>\n",
       "  </thead>\n",
       "  <tbody>\n",
       "    <tr>\n",
       "      <th>0</th>\n",
       "      <td>4</td>\n",
       "      <td>Primer</td>\n",
       "      <td>2004</td>\n",
       "      <td>1497</td>\n",
       "      <td>1.0</td>\n",
       "      <td>1.0</td>\n",
       "    </tr>\n",
       "    <tr>\n",
       "      <th>1</th>\n",
       "      <td>8</td>\n",
       "      <td>Film Geek</td>\n",
       "      <td>2005</td>\n",
       "      <td>503</td>\n",
       "      <td>0.0</td>\n",
       "      <td>0.0</td>\n",
       "    </tr>\n",
       "    <tr>\n",
       "      <th>2</th>\n",
       "      <td>10</td>\n",
       "      <td>Viola</td>\n",
       "      <td>2012</td>\n",
       "      <td>607</td>\n",
       "      <td>0.0</td>\n",
       "      <td>1.0</td>\n",
       "    </tr>\n",
       "    <tr>\n",
       "      <th>3</th>\n",
       "      <td>28</td>\n",
       "      <td>Never Been Thawed</td>\n",
       "      <td>2005</td>\n",
       "      <td>354</td>\n",
       "      <td>1.0</td>\n",
       "      <td>0.0</td>\n",
       "    </tr>\n",
       "    <tr>\n",
       "      <th>4</th>\n",
       "      <td>36</td>\n",
       "      <td>Virgin</td>\n",
       "      <td>2003</td>\n",
       "      <td>1508</td>\n",
       "      <td>1.0</td>\n",
       "      <td>0.0</td>\n",
       "    </tr>\n",
       "  </tbody>\n",
       "</table>\n",
       "</div>"
      ],
      "text/plain": [
       "   key2     original_title  year   key  Actual  Predicted\n",
       "0     4             Primer  2004  1497     1.0        1.0\n",
       "1     8          Film Geek  2005   503     0.0        0.0\n",
       "2    10              Viola  2012   607     0.0        1.0\n",
       "3    28  Never Been Thawed  2005   354     1.0        0.0\n",
       "4    36             Virgin  2003  1508     1.0        0.0"
      ]
     },
     "execution_count": 56,
     "metadata": {},
     "output_type": "execute_result"
    }
   ],
   "source": [
    "# Merging the data to get the DF to load to CSV\n",
    "merged_df0 = pd.merge(movies_df1, test_movies_df3, on=\"key2\")\n",
    "merged_df1 = pd.merge(merged_df0, actual_df2, on=\"key\")\n",
    "merged_df2 = pd.merge(merged_df1, predicted_df2, on=\"key\")\n",
    "merged_df2.head()"
   ]
  },
  {
   "cell_type": "code",
   "execution_count": 57,
   "metadata": {},
   "outputs": [],
   "source": [
    "merged_final_df = merged_df2[[\"key\", \"key2\", \"original_title\", \"year\", \"Actual\", \"Predicted\" ]]"
   ]
  },
  {
   "cell_type": "markdown",
   "metadata": {},
   "source": [
    "## Save to CSV"
   ]
  },
  {
   "cell_type": "code",
   "execution_count": 58,
   "metadata": {},
   "outputs": [],
   "source": [
    "# Save to file\n",
    "merged_final_df.to_csv('metascore_predict_vs_actual.csv', index=False)"
   ]
  }
 ],
 "metadata": {
  "kernelspec": {
   "display_name": "Python 3",
   "language": "python",
   "name": "python3"
  },
  "language_info": {
   "codemirror_mode": {
    "name": "ipython",
    "version": 3
   },
   "file_extension": ".py",
   "mimetype": "text/x-python",
   "name": "python",
   "nbconvert_exporter": "python",
   "pygments_lexer": "ipython3",
   "version": "3.6.12"
  }
 },
 "nbformat": 4,
 "nbformat_minor": 4
}
