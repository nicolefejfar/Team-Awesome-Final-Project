{
 "cells": [
  {
   "cell_type": "code",
   "execution_count": null,
   "metadata": {},
   "outputs": [],
   "source": [
    "# import pymongo\n",
    "# import requests\n",
    "import pandas as pd\n",
    "import time"
   ]
  },
  {
   "cell_type": "code",
   "execution_count": null,
   "metadata": {},
   "outputs": [],
   "source": [
    "# Import BeautifulSoup\n",
    "from bs4 import BeautifulSoup"
   ]
  },
  {
   "cell_type": "code",
   "execution_count": null,
   "metadata": {},
   "outputs": [],
   "source": [
    "# Import Splinter and set the chromedriver path\n",
    "from splinter import Browser\n",
    "def init_browser():\n",
    "    executable_path = {'executable_path': 'c:/bin/chromedriver'}\n",
    "    return Browser('chrome', **executable_path, headless=False)"
   ]
  },
  {
   "cell_type": "code",
   "execution_count": null,
   "metadata": {},
   "outputs": [],
   "source": [
    "# Visit the URL & scrape\n",
    "def scrape_imdb():\n",
    "    browser = init_browser()\n",
    "    imdb_url = 'https://www.imdb.com/list/ls070080072/'\n",
    "    browser.visit(imdb_url)\n",
    "    time.sleep(2)\n",
    "    soup = BeautifulSoup(browser.html, 'html.parser')\n",
    "    results = soup.find_all('div', class_='lister-item-content')\n",
    "    browser.quit()\n",
    "    return results"
   ]
  },
  {
   "cell_type": "code",
   "execution_count": null,
   "metadata": {},
   "outputs": [],
   "source": [
    "# Scrape Title\n",
    "title_list = []\n",
    "for result in scrape_imdb():\n",
    "    title1 = result.find('h3')\n",
    "    title = title1.a.text\n",
    "    title_list.append(title)\n",
    "title_list"
   ]
  },
  {
   "cell_type": "code",
   "execution_count": null,
   "metadata": {},
   "outputs": [],
   "source": [
    "# Scrape Genre (need to use Try/Except as some of the values are blank)\n",
    "genre_list = []\n",
    "for result in scrape_imdb():\n",
    "    try:\n",
    "        genre1 = result.find('span', class_='genre')\n",
    "        genre = genre1.text.replace('', '').strip()\n",
    "        genre_list.append(genre)\n",
    "    except:\n",
    "        genre = 'Null'\n",
    "        genre_list.append(genre)\n",
    "genre_list"
   ]
  },
  {
   "cell_type": "code",
   "execution_count": null,
   "metadata": {},
   "outputs": [],
   "source": [
    "# Scrape Directors/Actors (need to use Try/Except as some of the values are blank)\n",
    "directorActor_list = []\n",
    "for result in scrape_imdb():\n",
    "#     try:\n",
    "        directorActor1 = result.find('p', class_='text-muted text-small')\n",
    "        directorActor = directorActor1.a['href']\n",
    "        directorActor_list.append(directorActor)\n",
    "#     except:\n",
    "#         directorActor1 = 'Null'\n",
    "#         directorActor_list.append(directorActor1)        \n",
    "directorActor_list"
   ]
  },
  {
   "cell_type": "code",
   "execution_count": null,
   "metadata": {},
   "outputs": [],
   "source": [
    "# Scrape Directors/Actors (need to use Try/Except as some of the values are blank)\n",
    "directorActor_list = []\n",
    "for result in scrape_imdb():\n",
    "#     try:\n",
    "        directorActor1 = result.find('p', class_='text-muted text-small')\n",
    "        for x in directorActor1:\n",
    "            director = x.a['href']\n",
    "#         directorActor = directorActor1.a['href']\n",
    "#         directorActor_list.append(directorActor)\n",
    "            print(director)\n",
    "# directorActor_list\n",
    "        "
   ]
  },
  {
   "cell_type": "code",
   "execution_count": null,
   "metadata": {},
   "outputs": [],
   "source": []
  },
  {
   "cell_type": "code",
   "execution_count": null,
   "metadata": {},
   "outputs": [],
   "source": []
  },
  {
   "cell_type": "code",
   "execution_count": null,
   "metadata": {},
   "outputs": [],
   "source": [
    "# Scrape description/plot?"
   ]
  },
  {
   "cell_type": "code",
   "execution_count": null,
   "metadata": {},
   "outputs": [],
   "source": [
    "# Scrape another page?"
   ]
  },
  {
   "cell_type": "code",
   "execution_count": null,
   "metadata": {},
   "outputs": [],
   "source": [
    "# Visualze Data\n",
    "movie2021 = pd.DataFrame({'title': title_list, 'genre': genre_list})\n",
    "print(movie2021.shape)\n",
    "movie2021.head()"
   ]
  },
  {
   "cell_type": "code",
   "execution_count": null,
   "metadata": {},
   "outputs": [],
   "source": [
    "# Drop Null Values"
   ]
  },
  {
   "cell_type": "code",
   "execution_count": null,
   "metadata": {},
   "outputs": [],
   "source": [
    "# Write to CSV"
   ]
  }
 ],
 "metadata": {
  "kernelspec": {
   "display_name": "Python 3.6.10 64-bit ('NewPythonData': conda)",
   "language": "python",
   "name": "python361064bitnewpythondataconda482278f60edf4a67b1da8eed8d43fbf2"
  },
  "language_info": {
   "codemirror_mode": {
    "name": "ipython",
    "version": 3
   },
   "file_extension": ".py",
   "mimetype": "text/x-python",
   "name": "python",
   "nbconvert_exporter": "python",
   "pygments_lexer": "ipython3",
   "version": "3.6.10"
  }
 },
 "nbformat": 4,
 "nbformat_minor": 4
}
