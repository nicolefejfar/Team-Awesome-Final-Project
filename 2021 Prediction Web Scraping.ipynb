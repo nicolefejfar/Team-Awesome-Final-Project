{
 "cells": [
  {
   "cell_type": "code",
   "execution_count": 1,
   "metadata": {},
   "outputs": [],
   "source": [
    "import pandas as pd\n",
    "from sqlalchemy import create_engine\n",
    "import requests\n",
    "import numpy as np"
   ]
  },
  {
   "cell_type": "code",
   "execution_count": 2,
   "metadata": {},
   "outputs": [],
   "source": [
    "# This is the website where we pull the information for 2021 new releases\n",
    "url = 'https://en.wikipedia.org/wiki/List_of_American_films_of_2021'\n",
    "\n",
    "# These headers will allow us to avoid a 403 error by mimicing a web browser\n",
    "header = {\n",
    "  \"User-Agent\": \"Mozilla/5.0 (X11; Linux x86_64) AppleWebKit/537.36 (KHTML, like Gecko) Chrome/50.0.2661.75 Safari/537.36\",\n",
    "  \"X-Requested-With\": \"XMLHttpRequest\"\n",
    "}"
   ]
  },
  {
   "cell_type": "code",
   "execution_count": 3,
   "metadata": {},
   "outputs": [],
   "source": [
    "# format the request to mimic a web browser\n",
    "r = requests.get(url, headers=header)\n",
    "\n",
    "# import tables using pandas\n",
    "tables = pd.read_html(r.text)"
   ]
  },
  {
   "cell_type": "code",
   "execution_count": 4,
   "metadata": {},
   "outputs": [],
   "source": [
    "# read each of the quarterly tables into dataframes\n",
    "\n",
    "q1 = tables[1]\n",
    "q2 = tables[2]\n",
    "q3 = tables[3]\n",
    "q4 = tables[4]"
   ]
  },
  {
   "cell_type": "code",
   "execution_count": 5,
   "metadata": {},
   "outputs": [],
   "source": [
    "# concatenate each of the quarterly movie tables into one dataframe\n",
    "all_quarters = [q1, q2, q3, q4]\n",
    "\n",
    "future_movies = pd.concat(all_quarters)"
   ]
  },
  {
   "cell_type": "code",
   "execution_count": 6,
   "metadata": {},
   "outputs": [
    {
     "data": {
      "text/plain": [
       "(95, 7)"
      ]
     },
     "execution_count": 6,
     "metadata": {},
     "output_type": "execute_result"
    }
   ],
   "source": [
    "future_movies.shape"
   ]
  },
  {
   "cell_type": "code",
   "execution_count": 7,
   "metadata": {},
   "outputs": [
    {
     "data": {
      "text/html": [
       "<div>\n",
       "<style scoped>\n",
       "    .dataframe tbody tr th:only-of-type {\n",
       "        vertical-align: middle;\n",
       "    }\n",
       "\n",
       "    .dataframe tbody tr th {\n",
       "        vertical-align: top;\n",
       "    }\n",
       "\n",
       "    .dataframe thead th {\n",
       "        text-align: right;\n",
       "    }\n",
       "</style>\n",
       "<table border=\"1\" class=\"dataframe\">\n",
       "  <thead>\n",
       "    <tr style=\"text-align: right;\">\n",
       "      <th></th>\n",
       "      <th>Opening</th>\n",
       "      <th>Opening.1</th>\n",
       "      <th>Title</th>\n",
       "      <th>Production company</th>\n",
       "      <th>Cast and crew</th>\n",
       "      <th>Ref</th>\n",
       "      <th>Ref.</th>\n",
       "    </tr>\n",
       "  </thead>\n",
       "  <tbody>\n",
       "    <tr>\n",
       "      <th>0</th>\n",
       "      <td>JANUARY</td>\n",
       "      <td>1</td>\n",
       "      <td>We Can Be Heroes</td>\n",
       "      <td>Netflix / Troublemaker Studios</td>\n",
       "      <td>Robert Rodriguez (director/screenplay); Priyan...</td>\n",
       "      <td>[1]</td>\n",
       "      <td>NaN</td>\n",
       "    </tr>\n",
       "    <tr>\n",
       "      <th>1</th>\n",
       "      <td>JANUARY</td>\n",
       "      <td>8</td>\n",
       "      <td>The Devil's Light</td>\n",
       "      <td>Lionsgate</td>\n",
       "      <td>Daniel Stamm (director); Robert Zappia (screen...</td>\n",
       "      <td>[2]</td>\n",
       "      <td>NaN</td>\n",
       "    </tr>\n",
       "    <tr>\n",
       "      <th>2</th>\n",
       "      <td>JANUARY</td>\n",
       "      <td>15</td>\n",
       "      <td>Wrath of Man</td>\n",
       "      <td>Metro-Goldwyn-Mayer / Miramax</td>\n",
       "      <td>Guy Ritchie (director/screenplay); Jason Stath...</td>\n",
       "      <td>[3]</td>\n",
       "      <td>NaN</td>\n",
       "    </tr>\n",
       "    <tr>\n",
       "      <th>3</th>\n",
       "      <td>JANUARY</td>\n",
       "      <td>22</td>\n",
       "      <td>Chaos Walking</td>\n",
       "      <td>Lionsgate</td>\n",
       "      <td>Doug Liman (director); Patrick Ness, Christoph...</td>\n",
       "      <td>[4]</td>\n",
       "      <td>NaN</td>\n",
       "    </tr>\n",
       "    <tr>\n",
       "      <th>4</th>\n",
       "      <td>JANUARY</td>\n",
       "      <td>22</td>\n",
       "      <td>Nine Days</td>\n",
       "      <td>Sony Pictures Classics</td>\n",
       "      <td>Edson Oda (director/screenplay); Winston Duke,...</td>\n",
       "      <td>[5]</td>\n",
       "      <td>NaN</td>\n",
       "    </tr>\n",
       "  </tbody>\n",
       "</table>\n",
       "</div>"
      ],
      "text/plain": [
       "   Opening  Opening.1              Title              Production company  \\\n",
       "0  JANUARY          1   We Can Be Heroes  Netflix / Troublemaker Studios   \n",
       "1  JANUARY          8  The Devil's Light                       Lionsgate   \n",
       "2  JANUARY         15       Wrath of Man   Metro-Goldwyn-Mayer / Miramax   \n",
       "3  JANUARY         22      Chaos Walking                       Lionsgate   \n",
       "4  JANUARY         22          Nine Days          Sony Pictures Classics   \n",
       "\n",
       "                                       Cast and crew  Ref Ref.  \n",
       "0  Robert Rodriguez (director/screenplay); Priyan...  [1]  NaN  \n",
       "1  Daniel Stamm (director); Robert Zappia (screen...  [2]  NaN  \n",
       "2  Guy Ritchie (director/screenplay); Jason Stath...  [3]  NaN  \n",
       "3  Doug Liman (director); Patrick Ness, Christoph...  [4]  NaN  \n",
       "4  Edson Oda (director/screenplay); Winston Duke,...  [5]  NaN  "
      ]
     },
     "execution_count": 7,
     "metadata": {},
     "output_type": "execute_result"
    }
   ],
   "source": [
    "future_movies.head()"
   ]
  },
  {
   "cell_type": "code",
   "execution_count": 8,
   "metadata": {},
   "outputs": [
    {
     "data": {
      "text/plain": [
       "(94, 7)"
      ]
     },
     "execution_count": 8,
     "metadata": {},
     "output_type": "execute_result"
    }
   ],
   "source": [
    "future_movies = future_movies[future_movies['Cast and crew'].notnull()]\n",
    "future_movies.shape"
   ]
  },
  {
   "cell_type": "code",
   "execution_count": 9,
   "metadata": {},
   "outputs": [
    {
     "data": {
      "text/html": [
       "<div>\n",
       "<style scoped>\n",
       "    .dataframe tbody tr th:only-of-type {\n",
       "        vertical-align: middle;\n",
       "    }\n",
       "\n",
       "    .dataframe tbody tr th {\n",
       "        vertical-align: top;\n",
       "    }\n",
       "\n",
       "    .dataframe thead th {\n",
       "        text-align: right;\n",
       "    }\n",
       "</style>\n",
       "<table border=\"1\" class=\"dataframe\">\n",
       "  <thead>\n",
       "    <tr style=\"text-align: right;\">\n",
       "      <th></th>\n",
       "      <th>Opening</th>\n",
       "      <th>Opening.1</th>\n",
       "      <th>Title</th>\n",
       "      <th>Production company</th>\n",
       "      <th>Cast and crew</th>\n",
       "      <th>Ref</th>\n",
       "      <th>Ref.</th>\n",
       "    </tr>\n",
       "  </thead>\n",
       "  <tbody>\n",
       "    <tr>\n",
       "      <th>0</th>\n",
       "      <td>JANUARY</td>\n",
       "      <td>1</td>\n",
       "      <td>We Can Be Heroes</td>\n",
       "      <td>Netflix / Troublemaker Studios</td>\n",
       "      <td>Robert Rodriguez , Priyanka Chopra, Pedro Pasc...</td>\n",
       "      <td>[1]</td>\n",
       "      <td>NaN</td>\n",
       "    </tr>\n",
       "    <tr>\n",
       "      <th>1</th>\n",
       "      <td>JANUARY</td>\n",
       "      <td>8</td>\n",
       "      <td>The Devil's Light</td>\n",
       "      <td>Lionsgate</td>\n",
       "      <td>Daniel Stamm , Virginia Madsen, Ben Cross, Col...</td>\n",
       "      <td>[2]</td>\n",
       "      <td>NaN</td>\n",
       "    </tr>\n",
       "    <tr>\n",
       "      <th>2</th>\n",
       "      <td>JANUARY</td>\n",
       "      <td>15</td>\n",
       "      <td>Wrath of Man</td>\n",
       "      <td>Metro-Goldwyn-Mayer / Miramax</td>\n",
       "      <td>Guy Ritchie , Jason Statham, Holt McCallany, S...</td>\n",
       "      <td>[3]</td>\n",
       "      <td>NaN</td>\n",
       "    </tr>\n",
       "    <tr>\n",
       "      <th>3</th>\n",
       "      <td>JANUARY</td>\n",
       "      <td>22</td>\n",
       "      <td>Chaos Walking</td>\n",
       "      <td>Lionsgate</td>\n",
       "      <td>Doug Liman , Daisy Ridley, Tom Holland, Mads M...</td>\n",
       "      <td>[4]</td>\n",
       "      <td>NaN</td>\n",
       "    </tr>\n",
       "    <tr>\n",
       "      <th>4</th>\n",
       "      <td>JANUARY</td>\n",
       "      <td>22</td>\n",
       "      <td>Nine Days</td>\n",
       "      <td>Sony Pictures Classics</td>\n",
       "      <td>Edson Oda , Winston Duke, Zazie Beetz, Benedic...</td>\n",
       "      <td>[5]</td>\n",
       "      <td>NaN</td>\n",
       "    </tr>\n",
       "  </tbody>\n",
       "</table>\n",
       "</div>"
      ],
      "text/plain": [
       "   Opening  Opening.1              Title              Production company  \\\n",
       "0  JANUARY          1   We Can Be Heroes  Netflix / Troublemaker Studios   \n",
       "1  JANUARY          8  The Devil's Light                       Lionsgate   \n",
       "2  JANUARY         15       Wrath of Man   Metro-Goldwyn-Mayer / Miramax   \n",
       "3  JANUARY         22      Chaos Walking                       Lionsgate   \n",
       "4  JANUARY         22          Nine Days          Sony Pictures Classics   \n",
       "\n",
       "                                       Cast and crew  Ref Ref.  \n",
       "0  Robert Rodriguez , Priyanka Chopra, Pedro Pasc...  [1]  NaN  \n",
       "1  Daniel Stamm , Virginia Madsen, Ben Cross, Col...  [2]  NaN  \n",
       "2  Guy Ritchie , Jason Statham, Holt McCallany, S...  [3]  NaN  \n",
       "3  Doug Liman , Daisy Ridley, Tom Holland, Mads M...  [4]  NaN  \n",
       "4  Edson Oda , Winston Duke, Zazie Beetz, Benedic...  [5]  NaN  "
      ]
     },
     "execution_count": 9,
     "metadata": {},
     "output_type": "execute_result"
    }
   ],
   "source": [
    "# remove parentheses and all text between them\n",
    "future_movies['Cast and crew'] = future_movies['Cast and crew'].str.replace(r\"\\(.*\\)\",\"\")\n",
    "\n",
    "# convert semicolon to comma for easier splitting\n",
    "future_movies['Cast and crew'] = future_movies['Cast and crew'].str.replace('; ', ', ')\n",
    "\n",
    "# view the results\n",
    "future_movies.head()"
   ]
  },
  {
   "cell_type": "code",
   "execution_count": 10,
   "metadata": {},
   "outputs": [],
   "source": [
    "# define empty dictionary for the cast and crew data\n",
    "cast_crew_dict = {}"
   ]
  },
  {
   "cell_type": "code",
   "execution_count": 11,
   "metadata": {},
   "outputs": [],
   "source": [
    "# Walk down the dataframe, movie by movie \n",
    "for index, row in future_movies.iterrows():\n",
    "    \n",
    "    # read the list of actors, splitting them at the comma \n",
    "    crew_names = row['Cast and crew'].split(',')\n",
    "    \n",
    "    # for each actor in the list (up to the maximum desired)\n",
    "    for name in crew_names:\n",
    "        \n",
    "        # remove any whitespace from the name\n",
    "        name = name.strip()\n",
    "        \n",
    "        # if the actor is already in the dictionary then\n",
    "        # simply increase the count. Otherwise, add the actor\n",
    "        # and set the count to 1. \n",
    "        if name in cast_crew_dict:\n",
    "            cast_crew_dict[name] += 1\n",
    "        else:\n",
    "            cast_crew_dict[name] = 1"
   ]
  },
  {
   "cell_type": "code",
   "execution_count": 12,
   "metadata": {},
   "outputs": [
    {
     "name": "stdout",
     "output_type": "stream",
     "text": [
      "Found a total of 618 cast and crew\n"
     ]
    }
   ],
   "source": [
    "# Count the total number of actors found\n",
    "total_cast_crew = len(cast_crew_dict)\n",
    "print(f\"Found a total of {total_cast_crew} cast and crew\")"
   ]
  },
  {
   "cell_type": "code",
   "execution_count": 13,
   "metadata": {},
   "outputs": [],
   "source": [
    "# Add one new column to the dataframe for each actor found,\n",
    "# and initialize that new column with 0s.\n",
    "for cast in cast_crew_dict:\n",
    "    future_movies[cast] = np.zeros(future_movies.shape[0])"
   ]
  },
  {
   "cell_type": "code",
   "execution_count": 14,
   "metadata": {},
   "outputs": [],
   "source": [
    "# Walk down the dataframe, movie by movie ...\n",
    "for index, row in future_movies.iterrows():\n",
    "    \n",
    "    # read the list of actors \n",
    "    crew_names = row['Cast and crew'].split(',')\n",
    "    \n",
    "    # for each actor in the list (up to the maximum desired)\n",
    "    for crew in crew_names: \n",
    "                \n",
    "        # remove any whitespace from the name\n",
    "        crew = crew.strip()\n",
    "                \n",
    "        # then indicate that the actor starred in this movie\n",
    "        future_movies.loc[index, crew] = 1"
   ]
  },
  {
   "cell_type": "code",
   "execution_count": 15,
   "metadata": {},
   "outputs": [
    {
     "data": {
      "text/plain": [
       "0.0    86\n",
       "1.0     8\n",
       "Name: Tom Cruise, dtype: int64"
      ]
     },
     "execution_count": 15,
     "metadata": {},
     "output_type": "execute_result"
    }
   ],
   "source": [
    "future_movies['Tom Cruise'].value_counts()"
   ]
  },
  {
   "cell_type": "code",
   "execution_count": 19,
   "metadata": {},
   "outputs": [
    {
     "data": {
      "text/html": [
       "<div>\n",
       "<style scoped>\n",
       "    .dataframe tbody tr th:only-of-type {\n",
       "        vertical-align: middle;\n",
       "    }\n",
       "\n",
       "    .dataframe tbody tr th {\n",
       "        vertical-align: top;\n",
       "    }\n",
       "\n",
       "    .dataframe thead th {\n",
       "        text-align: right;\n",
       "    }\n",
       "</style>\n",
       "<table border=\"1\" class=\"dataframe\">\n",
       "  <thead>\n",
       "    <tr style=\"text-align: right;\">\n",
       "      <th></th>\n",
       "      <th>Title</th>\n",
       "      <th>Robert Rodriguez</th>\n",
       "      <th>Priyanka Chopra</th>\n",
       "      <th>Pedro Pascal</th>\n",
       "      <th>YaYa Gosselin</th>\n",
       "      <th>Sung Kang</th>\n",
       "      <th>Boyd Holbrook</th>\n",
       "      <th>Taylor Dooley</th>\n",
       "      <th>J.J. Dashnaw</th>\n",
       "      <th>Christian Slater</th>\n",
       "      <th>...</th>\n",
       "      <th>Matthew McConaughey</th>\n",
       "      <th>Reese Witherspoon</th>\n",
       "      <th>Seth MacFarlane</th>\n",
       "      <th>Taron Egerton</th>\n",
       "      <th>Tori Kelly</th>\n",
       "      <th>Mélanie Laurent</th>\n",
       "      <th>Dakota Fanning</th>\n",
       "      <th>Elle Fanning</th>\n",
       "      <th>Damien Chazelle</th>\n",
       "      <th>Brad Pitt</th>\n",
       "    </tr>\n",
       "  </thead>\n",
       "  <tbody>\n",
       "    <tr>\n",
       "      <th>0</th>\n",
       "      <td>We Can Be Heroes</td>\n",
       "      <td>1.0</td>\n",
       "      <td>1.0</td>\n",
       "      <td>1.0</td>\n",
       "      <td>1.0</td>\n",
       "      <td>1.0</td>\n",
       "      <td>1.0</td>\n",
       "      <td>1.0</td>\n",
       "      <td>1.0</td>\n",
       "      <td>1.0</td>\n",
       "      <td>...</td>\n",
       "      <td>0.0</td>\n",
       "      <td>0.0</td>\n",
       "      <td>0.0</td>\n",
       "      <td>0.0</td>\n",
       "      <td>0.0</td>\n",
       "      <td>0.0</td>\n",
       "      <td>0.0</td>\n",
       "      <td>0.0</td>\n",
       "      <td>0.0</td>\n",
       "      <td>0.0</td>\n",
       "    </tr>\n",
       "    <tr>\n",
       "      <th>1</th>\n",
       "      <td>The Devil's Light</td>\n",
       "      <td>0.0</td>\n",
       "      <td>0.0</td>\n",
       "      <td>0.0</td>\n",
       "      <td>0.0</td>\n",
       "      <td>0.0</td>\n",
       "      <td>0.0</td>\n",
       "      <td>0.0</td>\n",
       "      <td>0.0</td>\n",
       "      <td>0.0</td>\n",
       "      <td>...</td>\n",
       "      <td>0.0</td>\n",
       "      <td>0.0</td>\n",
       "      <td>0.0</td>\n",
       "      <td>0.0</td>\n",
       "      <td>0.0</td>\n",
       "      <td>0.0</td>\n",
       "      <td>0.0</td>\n",
       "      <td>0.0</td>\n",
       "      <td>0.0</td>\n",
       "      <td>0.0</td>\n",
       "    </tr>\n",
       "    <tr>\n",
       "      <th>2</th>\n",
       "      <td>Wrath of Man</td>\n",
       "      <td>0.0</td>\n",
       "      <td>0.0</td>\n",
       "      <td>0.0</td>\n",
       "      <td>0.0</td>\n",
       "      <td>0.0</td>\n",
       "      <td>0.0</td>\n",
       "      <td>0.0</td>\n",
       "      <td>0.0</td>\n",
       "      <td>0.0</td>\n",
       "      <td>...</td>\n",
       "      <td>0.0</td>\n",
       "      <td>0.0</td>\n",
       "      <td>0.0</td>\n",
       "      <td>0.0</td>\n",
       "      <td>0.0</td>\n",
       "      <td>0.0</td>\n",
       "      <td>0.0</td>\n",
       "      <td>0.0</td>\n",
       "      <td>0.0</td>\n",
       "      <td>0.0</td>\n",
       "    </tr>\n",
       "    <tr>\n",
       "      <th>3</th>\n",
       "      <td>Chaos Walking</td>\n",
       "      <td>0.0</td>\n",
       "      <td>0.0</td>\n",
       "      <td>0.0</td>\n",
       "      <td>0.0</td>\n",
       "      <td>0.0</td>\n",
       "      <td>0.0</td>\n",
       "      <td>0.0</td>\n",
       "      <td>0.0</td>\n",
       "      <td>0.0</td>\n",
       "      <td>...</td>\n",
       "      <td>0.0</td>\n",
       "      <td>0.0</td>\n",
       "      <td>0.0</td>\n",
       "      <td>0.0</td>\n",
       "      <td>0.0</td>\n",
       "      <td>0.0</td>\n",
       "      <td>0.0</td>\n",
       "      <td>0.0</td>\n",
       "      <td>0.0</td>\n",
       "      <td>0.0</td>\n",
       "    </tr>\n",
       "    <tr>\n",
       "      <th>4</th>\n",
       "      <td>Nine Days</td>\n",
       "      <td>0.0</td>\n",
       "      <td>0.0</td>\n",
       "      <td>0.0</td>\n",
       "      <td>0.0</td>\n",
       "      <td>0.0</td>\n",
       "      <td>0.0</td>\n",
       "      <td>0.0</td>\n",
       "      <td>0.0</td>\n",
       "      <td>0.0</td>\n",
       "      <td>...</td>\n",
       "      <td>0.0</td>\n",
       "      <td>0.0</td>\n",
       "      <td>0.0</td>\n",
       "      <td>0.0</td>\n",
       "      <td>0.0</td>\n",
       "      <td>0.0</td>\n",
       "      <td>0.0</td>\n",
       "      <td>0.0</td>\n",
       "      <td>0.0</td>\n",
       "      <td>0.0</td>\n",
       "    </tr>\n",
       "  </tbody>\n",
       "</table>\n",
       "<p>5 rows × 619 columns</p>\n",
       "</div>"
      ],
      "text/plain": [
       "               Title  Robert Rodriguez  Priyanka Chopra  Pedro Pascal  \\\n",
       "0   We Can Be Heroes               1.0              1.0           1.0   \n",
       "1  The Devil's Light               0.0              0.0           0.0   \n",
       "2       Wrath of Man               0.0              0.0           0.0   \n",
       "3      Chaos Walking               0.0              0.0           0.0   \n",
       "4          Nine Days               0.0              0.0           0.0   \n",
       "\n",
       "   YaYa Gosselin  Sung Kang  Boyd Holbrook  Taylor Dooley  J.J. Dashnaw  \\\n",
       "0            1.0        1.0            1.0            1.0           1.0   \n",
       "1            0.0        0.0            0.0            0.0           0.0   \n",
       "2            0.0        0.0            0.0            0.0           0.0   \n",
       "3            0.0        0.0            0.0            0.0           0.0   \n",
       "4            0.0        0.0            0.0            0.0           0.0   \n",
       "\n",
       "   Christian Slater  ...  Matthew McConaughey  Reese Witherspoon  \\\n",
       "0               1.0  ...                  0.0                0.0   \n",
       "1               0.0  ...                  0.0                0.0   \n",
       "2               0.0  ...                  0.0                0.0   \n",
       "3               0.0  ...                  0.0                0.0   \n",
       "4               0.0  ...                  0.0                0.0   \n",
       "\n",
       "   Seth MacFarlane  Taron Egerton  Tori Kelly  Mélanie Laurent  \\\n",
       "0              0.0            0.0         0.0              0.0   \n",
       "1              0.0            0.0         0.0              0.0   \n",
       "2              0.0            0.0         0.0              0.0   \n",
       "3              0.0            0.0         0.0              0.0   \n",
       "4              0.0            0.0         0.0              0.0   \n",
       "\n",
       "   Dakota Fanning  Elle Fanning  Damien Chazelle  Brad Pitt  \n",
       "0             0.0           0.0              0.0        0.0  \n",
       "1             0.0           0.0              0.0        0.0  \n",
       "2             0.0           0.0              0.0        0.0  \n",
       "3             0.0           0.0              0.0        0.0  \n",
       "4             0.0           0.0              0.0        0.0  \n",
       "\n",
       "[5 rows x 619 columns]"
      ]
     },
     "execution_count": 19,
     "metadata": {},
     "output_type": "execute_result"
    }
   ],
   "source": [
    "future_movies = future_movies.drop(columns=['Opening', 'Opening.1', 'Production company', 'Cast and crew', 'Ref', 'Ref.'])\n",
    "future_movies.head()"
   ]
  },
  {
   "cell_type": "code",
   "execution_count": 20,
   "metadata": {},
   "outputs": [],
   "source": [
    "future_movies.to_csv('testing2021.csv', index=False)"
   ]
  },
  {
   "cell_type": "code",
   "execution_count": null,
   "metadata": {},
   "outputs": [],
   "source": []
  },
  {
   "cell_type": "code",
   "execution_count": null,
   "metadata": {},
   "outputs": [],
   "source": []
  },
  {
   "cell_type": "code",
   "execution_count": null,
   "metadata": {},
   "outputs": [],
   "source": []
  },
  {
   "cell_type": "code",
   "execution_count": null,
   "metadata": {},
   "outputs": [],
   "source": [
    "# This is the website where we pull the information for 2021 new releases\n",
    "new_url = 'https://www.imdb.com/list/ls093883812/?sort=list_order,asc&st_dt=&mode=detail&page=1&ref_=ttls_vm_dtl'\n",
    "\n",
    "# These headers will allow us to avoid a 403 error by mimicing a web browser\n",
    "header = {\n",
    "  \"User-Agent\": \"Mozilla/5.0 (X11; Linux x86_64) AppleWebKit/537.36 (KHTML, like Gecko) Chrome/50.0.2661.75 Safari/537.36\",\n",
    "  \"X-Requested-With\": \"XMLHttpRequest\"\n",
    "}"
   ]
  },
  {
   "cell_type": "code",
   "execution_count": null,
   "metadata": {},
   "outputs": [],
   "source": [
    "# format the request to mimic a web browser\n",
    "r2 = requests.get(new_url, headers=header)\n",
    "\n",
    "# import tables using pandas\n",
    "newtables = pd.read_html(r2.text)"
   ]
  },
  {
   "cell_type": "code",
   "execution_count": null,
   "metadata": {},
   "outputs": [],
   "source": [
    "newtables[1]"
   ]
  }
 ],
 "metadata": {
  "kernelspec": {
   "display_name": "Python 3",
   "language": "python",
   "name": "python3"
  },
  "language_info": {
   "codemirror_mode": {
    "name": "ipython",
    "version": 3
   },
   "file_extension": ".py",
   "mimetype": "text/x-python",
   "name": "python",
   "nbconvert_exporter": "python",
   "pygments_lexer": "ipython3",
   "version": "3.6.10"
  }
 },
 "nbformat": 4,
 "nbformat_minor": 4
}
