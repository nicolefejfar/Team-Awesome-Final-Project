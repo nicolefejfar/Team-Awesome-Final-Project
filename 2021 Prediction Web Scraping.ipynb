{
 "cells": [
  {
   "cell_type": "code",
   "execution_count": null,
   "metadata": {},
   "outputs": [],
   "source": [
    "import pandas as pd\n",
    "from sqlalchemy import create_engine\n",
    "import requests\n",
    "import numpy as np"
   ]
  },
  {
   "cell_type": "code",
   "execution_count": null,
   "metadata": {},
   "outputs": [],
   "source": [
    "# This is the website where we pull the information for 2021 new releases\n",
    "url = 'https://en.wikipedia.org/wiki/List_of_American_films_of_2021'\n",
    "\n",
    "# These headers will allow us to avoid a 403 error by mimicing a web browser\n",
    "header = {\n",
    "  \"User-Agent\": \"Mozilla/5.0 (X11; Linux x86_64) AppleWebKit/537.36 (KHTML, like Gecko) Chrome/50.0.2661.75 Safari/537.36\",\n",
    "  \"X-Requested-With\": \"XMLHttpRequest\"\n",
    "}"
   ]
  },
  {
   "cell_type": "code",
   "execution_count": null,
   "metadata": {},
   "outputs": [],
   "source": [
    "# format the request to mimic a web browser\n",
    "r = requests.get(url, headers=header)\n",
    "\n",
    "# import tables using pandas\n",
    "tables = pd.read_html(r.text)"
   ]
  },
  {
   "cell_type": "code",
   "execution_count": null,
   "metadata": {},
   "outputs": [],
   "source": [
    "# read each of the quarterly tables into dataframes\n",
    "\n",
    "q1 = tables[1]\n",
    "q2 = tables[2]\n",
    "q3 = tables[3]\n",
    "q4 = tables[4]"
   ]
  },
  {
   "cell_type": "code",
   "execution_count": null,
   "metadata": {},
   "outputs": [],
   "source": [
    "# concatenate each of the quarterly movie tables into one dataframe\n",
    "all_quarters = [q1, q2, q3, q4]\n",
    "\n",
    "future_movies = pd.concat(all_quarters)"
   ]
  },
  {
   "cell_type": "code",
   "execution_count": null,
   "metadata": {},
   "outputs": [],
   "source": [
    "future_movies.shape"
   ]
  },
  {
   "cell_type": "code",
   "execution_count": null,
   "metadata": {},
   "outputs": [],
   "source": [
    "future_movies.head()"
   ]
  },
  {
   "cell_type": "code",
   "execution_count": null,
   "metadata": {},
   "outputs": [],
   "source": [
    "future_movies = future_movies[future_movies['Cast and crew'].notnull()]\n",
    "future_movies.shape"
   ]
  },
  {
   "cell_type": "code",
   "execution_count": null,
   "metadata": {},
   "outputs": [],
   "source": [
    "# remove parentheses and all text between them\n",
    "future_movies['Cast and crew'] = future_movies['Cast and crew'].str.replace(r\"\\(.*\\)\",\"\")\n",
    "\n",
    "# convert semicolon to comma for easier splitting\n",
    "future_movies['Cast and crew'] = future_movies['Cast and crew'].str.replace('; ', ', ')\n",
    "\n",
    "# view the results\n",
    "future_movies.head()"
   ]
  },
  {
   "cell_type": "code",
   "execution_count": null,
   "metadata": {},
   "outputs": [],
   "source": [
    "# define empty dictionary for the cast and crew data\n",
    "cast_crew_dict = {}"
   ]
  },
  {
   "cell_type": "code",
   "execution_count": null,
   "metadata": {},
   "outputs": [],
   "source": [
    "# Walk down the dataframe, movie by movie \n",
    "for index, row in future_movies.iterrows():\n",
    "    \n",
    "    # read the list of actors, splitting them at the comma \n",
    "    crew_names = row['Cast and crew'].split(',')\n",
    "    \n",
    "    # for each actor in the list (up to the maximum desired)\n",
    "    for name in crew_names:\n",
    "        \n",
    "        # remove any whitespace from the name\n",
    "        name = name.strip()\n",
    "        \n",
    "        # if the actor is already in the dictionary then\n",
    "        # simply increase the count. Otherwise, add the actor\n",
    "        # and set the count to 1. \n",
    "        if name in cast_crew_dict:\n",
    "            cast_crew_dict[name] += 1\n",
    "        else:\n",
    "            cast_crew_dict[name] = 1"
   ]
  },
  {
   "cell_type": "code",
   "execution_count": null,
   "metadata": {},
   "outputs": [],
   "source": [
    "# Count the total number of actors found\n",
    "total_cast_crew = len(cast_crew_dict)\n",
    "print(f\"Found a total of {total_cast_crew} cast and crew\")"
   ]
  },
  {
   "cell_type": "code",
   "execution_count": null,
   "metadata": {},
   "outputs": [],
   "source": [
    "movies = pd.read_csv('moviesClean.csv')"
   ]
  },
  {
   "cell_type": "code",
   "execution_count": null,
   "metadata": {},
   "outputs": [],
   "source": [
    "empty_movies = movies[0:0]\n",
    "empty_movies.head()"
   ]
  },
  {
   "cell_type": "code",
   "execution_count": null,
   "metadata": {},
   "outputs": [],
   "source": [
    "empty_movies.drop(columns=['original_title', 'genre', 'country', 'language', 'revenue_percent', 'budget',\n",
    "                     'worlwide_gross_income', 'director', 'writer', 'production_company', 'actors', 'success'], inplace=True)\n",
    "empty_movies.head()"
   ]
  },
  {
   "cell_type": "code",
   "execution_count": null,
   "metadata": {},
   "outputs": [],
   "source": [
    "list(empty_movies.columns)"
   ]
  },
  {
   "cell_type": "code",
   "execution_count": null,
   "metadata": {},
   "outputs": [],
   "source": [
    "# create our new dataframe for predictions\n",
    "predictions = empty_movies\n",
    "columns = empty_movies.columns\n",
    "\n",
    "i = 0\n",
    "\n",
    "# set the initial values to zero\n",
    "while i > total_cast_crew:\n",
    "    for column in columns:\n",
    "        predictions.loc[i, column] = 0\n",
    "    i +=1\n",
    "    \n"
   ]
  },
  {
   "cell_type": "code",
   "execution_count": null,
   "metadata": {},
   "outputs": [],
   "source": [
    "predictions['year'] = 2021"
   ]
  },
  {
   "cell_type": "code",
   "execution_count": null,
   "metadata": {},
   "outputs": [],
   "source": [
    "predictions.head()"
   ]
  },
  {
   "cell_type": "code",
   "execution_count": null,
   "metadata": {},
   "outputs": [],
   "source": [
    "for index, row in future_movies.iterrows():\n",
    "    \n",
    "    # read the list of actors, splitting them at the comma \n",
    "    crew_names = row['Cast and crew'].split(',')\n",
    "    \n",
    "    # for each actor in the list (up to the maximum desired)\n",
    "    for name in crew_names:\n",
    "        \n",
    "        # remove any whitespace from the name\n",
    "        name = name.strip()\n",
    "        \n",
    "        # update predictions dataframe to indicate the person was in the movie\n",
    "        predictions.loc[index, name] = 1"
   ]
  },
  {
   "cell_type": "code",
   "execution_count": null,
   "metadata": {},
   "outputs": [],
   "source": [
    "predictions.head()"
   ]
  },
  {
   "cell_type": "markdown",
   "metadata": {},
   "source": [
    "the code below creates columns for each actor within this spreadsheet. What we need to do is use the headers from movies_Clean.csv"
   ]
  },
  {
   "cell_type": "code",
   "execution_count": null,
   "metadata": {},
   "outputs": [],
   "source": [
    "# Add one new column to the dataframe for each actor found,\n",
    "# and initialize that new column with 0s.\n",
    "for cast in cast_crew_dict:\n",
    "    future_movies[cast] = np.zeros(future_movies.shape[0])"
   ]
  },
  {
   "cell_type": "code",
   "execution_count": null,
   "metadata": {},
   "outputs": [],
   "source": [
    "# Walk down the dataframe, movie by movie ...\n",
    "for index, row in future_movies.iterrows():\n",
    "    \n",
    "    # read the list of actors \n",
    "    crew_names = row['Cast and crew'].split(',')\n",
    "    \n",
    "    # for each actor in the list (up to the maximum desired)\n",
    "    for crew in crew_names: \n",
    "                \n",
    "        # remove any whitespace from the name\n",
    "        crew = crew.strip()\n",
    "                \n",
    "        # then indicate that the actor starred in this movie\n",
    "        future_movies.loc[index, crew] = 1"
   ]
  },
  {
   "cell_type": "code",
   "execution_count": null,
   "metadata": {},
   "outputs": [],
   "source": [
    "future_movies['Tom Cruise'].value_counts()"
   ]
  },
  {
   "cell_type": "code",
   "execution_count": null,
   "metadata": {},
   "outputs": [],
   "source": [
    "future_movies = future_movies.drop(columns=['Opening', 'Opening.1', 'Production company', 'Cast and crew', 'Ref', 'Ref.'])\n",
    "future_movies.head()"
   ]
  },
  {
   "cell_type": "code",
   "execution_count": null,
   "metadata": {},
   "outputs": [],
   "source": [
    "future_movies.to_csv('testing2021.csv', index=False)"
   ]
  },
  {
   "cell_type": "code",
   "execution_count": null,
   "metadata": {},
   "outputs": [],
   "source": []
  },
  {
   "cell_type": "code",
   "execution_count": null,
   "metadata": {},
   "outputs": [],
   "source": []
  },
  {
   "cell_type": "code",
   "execution_count": null,
   "metadata": {},
   "outputs": [],
   "source": []
  },
  {
   "cell_type": "code",
   "execution_count": null,
   "metadata": {},
   "outputs": [],
   "source": [
    "# This is the website where we pull the information for 2021 new releases\n",
    "new_url = 'https://www.imdb.com/list/ls093883812/?sort=list_order,asc&st_dt=&mode=detail&page=1&ref_=ttls_vm_dtl'\n",
    "\n",
    "# These headers will allow us to avoid a 403 error by mimicing a web browser\n",
    "header = {\n",
    "  \"User-Agent\": \"Mozilla/5.0 (X11; Linux x86_64) AppleWebKit/537.36 (KHTML, like Gecko) Chrome/50.0.2661.75 Safari/537.36\",\n",
    "  \"X-Requested-With\": \"XMLHttpRequest\"\n",
    "}"
   ]
  },
  {
   "cell_type": "code",
   "execution_count": null,
   "metadata": {},
   "outputs": [],
   "source": [
    "# format the request to mimic a web browser\n",
    "r2 = requests.get(new_url, headers=header)\n",
    "\n",
    "# import tables using pandas\n",
    "newtables = pd.read_html(r2.text)"
   ]
  },
  {
   "cell_type": "code",
   "execution_count": null,
   "metadata": {},
   "outputs": [],
   "source": [
    "newtables[1]"
   ]
  }
 ],
 "metadata": {
  "kernelspec": {
   "display_name": "Python 3",
   "language": "python",
   "name": "python3"
  },
  "language_info": {
   "codemirror_mode": {
    "name": "ipython",
    "version": 3
   },
   "file_extension": ".py",
   "mimetype": "text/x-python",
   "name": "python",
   "nbconvert_exporter": "python",
   "pygments_lexer": "ipython3",
   "version": "3.6.10"
  }
 },
 "nbformat": 4,
 "nbformat_minor": 4
}
