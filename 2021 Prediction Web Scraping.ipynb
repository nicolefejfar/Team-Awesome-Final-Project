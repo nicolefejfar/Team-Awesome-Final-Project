{
 "cells": [
  {
   "cell_type": "markdown",
   "metadata": {},
   "source": [
    "# Scraping 2021 movie releases"
   ]
  },
  {
   "cell_type": "markdown",
   "metadata": {},
   "source": [
    "Marianne's code starts here"
   ]
  },
  {
   "cell_type": "code",
   "execution_count": null,
   "metadata": {},
   "outputs": [],
   "source": [
    "import pandas as pd\n",
    "from sqlalchemy import create_engine\n",
    "import requests\n",
    "import numpy as np"
   ]
  },
  {
   "cell_type": "code",
   "execution_count": null,
   "metadata": {},
   "outputs": [],
   "source": [
    "# This is the website where we pull the information for 2021 new releases\n",
    "url = 'https://en.wikipedia.org/wiki/List_of_American_films_of_2021'\n",
    "\n",
    "# These headers will allow us to avoid a 403 error by mimicing a web browser\n",
    "header = {\n",
    "  \"User-Agent\": \"Mozilla/5.0 (X11; Linux x86_64) AppleWebKit/537.36 (KHTML, like Gecko) Chrome/50.0.2661.75 Safari/537.36\",\n",
    "  \"X-Requested-With\": \"XMLHttpRequest\"\n",
    "}"
   ]
  },
  {
   "cell_type": "code",
   "execution_count": null,
   "metadata": {},
   "outputs": [],
   "source": [
    "# format the request to mimic a web browser\n",
    "r = requests.get(url, headers=header)\n",
    "\n",
    "# import tables using pandas\n",
    "tables = pd.read_html(r.text)"
   ]
  },
  {
   "cell_type": "code",
   "execution_count": null,
   "metadata": {},
   "outputs": [],
   "source": [
    "# read each of the quarterly tables into dataframes\n",
    "\n",
    "q1 = tables[1]\n",
    "q2 = tables[2]\n",
    "q3 = tables[3]\n",
    "q4 = tables[4]"
   ]
  },
  {
   "cell_type": "code",
   "execution_count": null,
   "metadata": {},
   "outputs": [],
   "source": [
    "# concatenate each of the quarterly movie tables into one dataframe\n",
    "all_quarters = [q1, q2, q3, q4]\n",
    "\n",
    "future_movies = pd.concat(all_quarters)"
   ]
  },
  {
   "cell_type": "code",
   "execution_count": null,
   "metadata": {},
   "outputs": [],
   "source": [
    "future_movies.shape"
   ]
  },
  {
   "cell_type": "code",
   "execution_count": null,
   "metadata": {},
   "outputs": [],
   "source": [
    "future_movies = future_movies.drop(columns=['Opening', 'Opening.1', 'Production company', 'Ref', 'Ref.'])"
   ]
  },
  {
   "cell_type": "code",
   "execution_count": null,
   "metadata": {},
   "outputs": [],
   "source": [
    "future_movies = future_movies[future_movies['Cast and crew'].notnull()]\n",
    "future_movies.shape"
   ]
  },
  {
   "cell_type": "code",
   "execution_count": null,
   "metadata": {},
   "outputs": [],
   "source": [
    "# remove parentheses and all text between them\n",
    "future_movies['Cast and crew'] = future_movies['Cast and crew'].str.replace(r\"\\(.*\\)\",\"\")\n",
    "\n",
    "# convert semicolon to comma for easier splitting\n",
    "future_movies['Cast and crew'] = future_movies['Cast and crew'].str.replace('; ', ', ')\n",
    "\n",
    "# view the results. Our dataframe now has only directors and actors and the title.\n",
    "future_movies.head()"
   ]
  },
  {
   "cell_type": "markdown",
   "metadata": {},
   "source": [
    "Marianne's code ends here"
   ]
  },
  {
   "cell_type": "markdown",
   "metadata": {},
   "source": [
    "# Scraping genre for 2021 movie releases"
   ]
  },
  {
   "cell_type": "markdown",
   "metadata": {},
   "source": [
    "Nicole's code starts here"
   ]
  },
  {
   "cell_type": "code",
   "execution_count": null,
   "metadata": {},
   "outputs": [],
   "source": [
    "import time"
   ]
  },
  {
   "cell_type": "code",
   "execution_count": null,
   "metadata": {},
   "outputs": [],
   "source": [
    "# Import BeautifulSoup\n",
    "from bs4 import BeautifulSoup"
   ]
  },
  {
   "cell_type": "code",
   "execution_count": null,
   "metadata": {},
   "outputs": [],
   "source": [
    "# Import Splinter and set the chromedriver path\n",
    "from splinter import Browser\n",
    "def init_browser():\n",
    "    executable_path = {'executable_path': 'c:/bin/chromedriver'}\n",
    "    return Browser('chrome', **executable_path, headless=False)"
   ]
  },
  {
   "cell_type": "code",
   "execution_count": null,
   "metadata": {},
   "outputs": [],
   "source": [
    "# Visit the URL & scrape\n",
    "def scrape_imdb():\n",
    "    browser = init_browser()\n",
    "    imdb_url = 'https://www.imdb.com/list/ls070080072/'\n",
    "    browser.visit(imdb_url)\n",
    "    time.sleep(2)\n",
    "    soup = BeautifulSoup(browser.html, 'html.parser')\n",
    "    results = soup.find_all('div', class_='lister-item-content')\n",
    "    browser.quit()\n",
    "    return results"
   ]
  },
  {
   "cell_type": "code",
   "execution_count": null,
   "metadata": {},
   "outputs": [],
   "source": [
    "# Scrape Title\n",
    "title_list = []\n",
    "for result in scrape_imdb():\n",
    "    title1 = result.find('h3')\n",
    "    title = title1.a.text\n",
    "    title_list.append(title)\n",
    "title_list"
   ]
  },
  {
   "cell_type": "code",
   "execution_count": null,
   "metadata": {},
   "outputs": [],
   "source": [
    "# Scrape Genre (need to use Try/Except as some of the values are blank)\n",
    "genre_list = []\n",
    "for result in scrape_imdb():\n",
    "    try:\n",
    "        genre1 = result.find('span', class_='genre')\n",
    "        genre = genre1.text.replace('', '').strip()\n",
    "        genre_list.append(genre)\n",
    "    except:\n",
    "        genre = 'Null'\n",
    "        genre_list.append(genre)\n",
    "genre_list"
   ]
  },
  {
   "cell_type": "code",
   "execution_count": null,
   "metadata": {},
   "outputs": [],
   "source": [
    "# Visualze Data\n",
    "movie2021 = pd.DataFrame({'Title': title_list, 'genre': genre_list})\n",
    "print(movie2021.shape)\n",
    "movie2021.head()"
   ]
  },
  {
   "cell_type": "markdown",
   "metadata": {},
   "source": [
    "Marianne's code starts here"
   ]
  },
  {
   "cell_type": "code",
   "execution_count": null,
   "metadata": {},
   "outputs": [],
   "source": [
    "# merge the two dataframes together\n",
    "all_data = future_movies.set_index('Title').join(movie2021.set_index('Title'))"
   ]
  },
  {
   "cell_type": "code",
   "execution_count": null,
   "metadata": {},
   "outputs": [],
   "source": [
    "all_data = all_data[all_data['genre'].notnull()]\n",
    "all_data.shape"
   ]
  },
  {
   "cell_type": "code",
   "execution_count": null,
   "metadata": {},
   "outputs": [],
   "source": [
    "all_data.head()"
   ]
  },
  {
   "cell_type": "markdown",
   "metadata": {},
   "source": [
    "# Preparing the data for the neural network"
   ]
  },
  {
   "cell_type": "markdown",
   "metadata": {},
   "source": [
    "In order to work with our neural network, the data needs to be fitted to the same columns as used when training the model."
   ]
  },
  {
   "cell_type": "code",
   "execution_count": null,
   "metadata": {},
   "outputs": [],
   "source": [
    "# read in the data used to train/test the model\n",
    "movies = pd.read_csv('moviesClean.csv')"
   ]
  },
  {
   "cell_type": "code",
   "execution_count": null,
   "metadata": {},
   "outputs": [],
   "source": [
    "# clear the old data from the dataframe\n",
    "empty_movies = movies[0:0]\n",
    "empty_movies.head()"
   ]
  },
  {
   "cell_type": "code",
   "execution_count": null,
   "metadata": {},
   "outputs": [],
   "source": [
    "# remove columns that the model isn't expecting\n",
    "empty_movies.drop(columns=['original_title', 'genre', 'revenue_percent', 'budget', 'metascore',\n",
    "                     'worlwide_gross_income', 'director', 'actors', 'success'], inplace=True)\n",
    "empty_movies.head()"
   ]
  },
  {
   "cell_type": "code",
   "execution_count": null,
   "metadata": {},
   "outputs": [],
   "source": [
    "# create our new dataframe for predictions\n",
    "predictions = empty_movies"
   ]
  },
  {
   "cell_type": "code",
   "execution_count": null,
   "metadata": {},
   "outputs": [],
   "source": [
    "# add our genre and cast and crew columns to the dataframe\n",
    "# because title is the index, it will automatically be added.\n",
    "predictions['genre'] = all_data['genre']\n",
    "predictions['Cast and crew'] = all_data['Cast and crew']"
   ]
  },
  {
   "cell_type": "code",
   "execution_count": null,
   "metadata": {},
   "outputs": [],
   "source": [
    "predictions.head()"
   ]
  },
  {
   "cell_type": "code",
   "execution_count": null,
   "metadata": {},
   "outputs": [],
   "source": [
    "# replace all na values with 0\n",
    "predictions = predictions.fillna(0)"
   ]
  },
  {
   "cell_type": "code",
   "execution_count": null,
   "metadata": {},
   "outputs": [],
   "source": [
    "predictions['year'] = 2021\n",
    "predictions.head()"
   ]
  },
  {
   "cell_type": "markdown",
   "metadata": {},
   "source": [
    "Update columns to a value of \"1\" if actors or directors are present."
   ]
  },
  {
   "cell_type": "code",
   "execution_count": null,
   "metadata": {},
   "outputs": [],
   "source": [
    "# define empty dictionary for the cast and crew data\n",
    "cast_crew_dict = {}"
   ]
  },
  {
   "cell_type": "code",
   "execution_count": null,
   "metadata": {},
   "outputs": [],
   "source": [
    "# Walk down the dataframe, movie by movie ...\n",
    "for index, row in predictions.iterrows():\n",
    "    \n",
    "    # read the list of actors, splitting them at the comma \n",
    "    cast_crew_names = row['Cast and crew'].split(',')\n",
    "    \n",
    "    # for each actor in the list (up to the maximum desired)\n",
    "    for name in cast_crew_names:\n",
    "        \n",
    "        # remove any whitespace from the name\n",
    "        name = name.strip()\n",
    "        \n",
    "        # if the person is already in the dictionary then\n",
    "        # simply increase the count. Otherwise, add the person\n",
    "        # and set the count to 1. \n",
    "        if name in cast_crew_dict:\n",
    "            cast_crew_dict[name] += 1\n",
    "        else:\n",
    "            cast_crew_dict[name] = 1\n",
    "          "
   ]
  },
  {
   "cell_type": "code",
   "execution_count": null,
   "metadata": {},
   "outputs": [],
   "source": [
    "# Count the total number of actors found\n",
    "total_cast_crew = len(cast_crew_dict)\n",
    "print(f\"Found a total of {total_cast_crew} cast and crew\")"
   ]
  },
  {
   "cell_type": "code",
   "execution_count": null,
   "metadata": {},
   "outputs": [],
   "source": [
    "# update the column to '1' if the person in the column made this movie\n",
    "\n",
    "# Walk down the dataframe, movie by movie ...\n",
    "for index, row in predictions.iterrows():\n",
    "    \n",
    "    # read the list of actors \n",
    "    cast_crew_names = row['Cast and crew'].split(',')\n",
    "    \n",
    "    # for each actor in the list (up to the maximum desired)\n",
    "    for name in cast_crew_names:\n",
    "                \n",
    "        # remove any whitespace from the name\n",
    "        name = name.strip()\n",
    "                \n",
    "        # then indicate that the actor starred in this movie\n",
    "        predictions.loc[index, name] = 1"
   ]
  },
  {
   "cell_type": "code",
   "execution_count": null,
   "metadata": {},
   "outputs": [],
   "source": [
    "predictions.head()"
   ]
  },
  {
   "cell_type": "code",
   "execution_count": null,
   "metadata": {},
   "outputs": [],
   "source": [
    "# drop any actors/directors that the model isn't trained for\n",
    "predictions = predictions.dropna(axis=1)"
   ]
  },
  {
   "cell_type": "code",
   "execution_count": null,
   "metadata": {},
   "outputs": [],
   "source": [
    "predictions.head()"
   ]
  },
  {
   "cell_type": "code",
   "execution_count": null,
   "metadata": {},
   "outputs": [],
   "source": [
    "# check for a specific actor\n",
    "predictions['Tom Cruise'].value_counts()"
   ]
  },
  {
   "cell_type": "code",
   "execution_count": null,
   "metadata": {},
   "outputs": [],
   "source": [
    "predictions['Scarlett Johansson'].value_counts()"
   ]
  },
  {
   "cell_type": "markdown",
   "metadata": {},
   "source": [
    "Update the genre for each movie"
   ]
  },
  {
   "cell_type": "code",
   "execution_count": null,
   "metadata": {},
   "outputs": [],
   "source": [
    "# define an empty dictionary for tracking genres\n",
    "genre_dictionary = {}"
   ]
  },
  {
   "cell_type": "code",
   "execution_count": null,
   "metadata": {},
   "outputs": [],
   "source": [
    "# go through the dataframe row by row\n",
    "for index, row in predictions.iterrows():\n",
    "    \n",
    "#     read the list of genres and split at the comma\n",
    "    genre_names = row['genre'].split(',')   \n",
    "    \n",
    "#     for each genre in the list\n",
    "    for genre in genre_names:\n",
    "        \n",
    "#     remove whitespace from the name\n",
    "        genre = genre.strip()\n",
    "    \n",
    "#     if the genre is in the dictionary, increase the count. \n",
    "#     otherwise, add the genre and set the count to one\n",
    "        if genre in genre_dictionary:\n",
    "            genre_dictionary[genre] += 1\n",
    "        else: \n",
    "            genre_dictionary[genre] = 1"
   ]
  },
  {
   "cell_type": "code",
   "execution_count": null,
   "metadata": {},
   "outputs": [],
   "source": [
    "# count the total number of genres found\n",
    "total_genres = len(genre_dictionary)\n",
    "print(f\"Found a total of {total_genres} genres\")"
   ]
  },
  {
   "cell_type": "code",
   "execution_count": null,
   "metadata": {},
   "outputs": [],
   "source": [
    "# update for each movie\n",
    "for index, row in predictions.iterrows():\n",
    "    genre_names = row['genre'].split(',')\n",
    "    \n",
    "#     for each genre in the list\n",
    "    for genre in genre_names:\n",
    "        genre = genre.strip()\n",
    "        \n",
    "        predictions.loc[index, genre] = 1"
   ]
  },
  {
   "cell_type": "code",
   "execution_count": null,
   "metadata": {},
   "outputs": [],
   "source": [
    "predictions = predictions.drop(columns=['genre', 'Cast and crew'])"
   ]
  },
  {
   "cell_type": "code",
   "execution_count": null,
   "metadata": {},
   "outputs": [],
   "source": [
    "predictions.head()"
   ]
  },
  {
   "cell_type": "code",
   "execution_count": null,
   "metadata": {},
   "outputs": [],
   "source": [
    "# save to file for use with the machine learning model\n",
    "predictions.to_csv('2021_predictions.csv', index=True)"
   ]
  }
 ],
 "metadata": {
  "kernelspec": {
   "display_name": "Python 3",
   "language": "python",
   "name": "python3"
  },
  "language_info": {
   "codemirror_mode": {
    "name": "ipython",
    "version": 3
   },
   "file_extension": ".py",
   "mimetype": "text/x-python",
   "name": "python",
   "nbconvert_exporter": "python",
   "pygments_lexer": "ipython3",
   "version": "3.6.12"
  }
 },
 "nbformat": 4,
 "nbformat_minor": 4
}
