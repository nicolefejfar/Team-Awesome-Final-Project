{
 "cells": [
  {
   "cell_type": "markdown",
   "metadata": {},
   "source": [
    "# Nicole's code starts here"
   ]
  },
  {
   "cell_type": "code",
   "execution_count": null,
   "metadata": {},
   "outputs": [],
   "source": [
    "import pandas as pd\n",
    "import numpy as np"
   ]
  },
  {
   "cell_type": "code",
   "execution_count": null,
   "metadata": {},
   "outputs": [],
   "source": [
    "# Read in csv\n",
    "movies = pd.read_csv(\"IMDb movies.csv\")\n",
    "print(movies.shape)\n",
    "movies.head(1)"
   ]
  },
  {
   "cell_type": "code",
   "execution_count": null,
   "metadata": {},
   "outputs": [],
   "source": [
    "# Remove rows w/NaN values from pertinent columns\n",
    "movies = movies[~movies.budget.isna()]\n",
    "movies = movies[~movies.worlwide_gross_income.isna()]\n",
    "movies = movies[~movies.metascore.isna()]"
   ]
  },
  {
   "cell_type": "code",
   "execution_count": null,
   "metadata": {},
   "outputs": [],
   "source": [
    "# Remove $ and , from budget/income columns\n",
    "movies['budget'] = movies['budget'].replace({'\\$': '', ',': ''}, regex=True)\n",
    "movies['worlwide_gross_income'] = movies['worlwide_gross_income'].replace({'\\$': '', ',': ''}, regex=True)"
   ]
  },
  {
   "cell_type": "code",
   "execution_count": null,
   "metadata": {},
   "outputs": [],
   "source": [
    "# Remove non-US currencies (all have text) from budget column\n",
    "movies = movies[pd.to_numeric(movies['budget'], errors='coerce').notnull()]"
   ]
  },
  {
   "cell_type": "code",
   "execution_count": null,
   "metadata": {},
   "outputs": [],
   "source": [
    "# Convert currency columns to floats\n",
    "movies['budget'] = movies['budget'].astype(float)\n",
    "movies['worlwide_gross_income'] = movies['worlwide_gross_income'].astype(float)"
   ]
  },
  {
   "cell_type": "code",
   "execution_count": null,
   "metadata": {},
   "outputs": [],
   "source": [
    "movies['worlwide_gross_income'] = round(movies['worlwide_gross_income'], 2)"
   ]
  },
  {
   "cell_type": "code",
   "execution_count": null,
   "metadata": {},
   "outputs": [],
   "source": [
    "# Calculate Revenue % Column\n",
    "movies['revenue_percent'] = round(((movies['worlwide_gross_income'] - movies['budget']) / movies['budget']) * 100, 2)"
   ]
  },
  {
   "cell_type": "code",
   "execution_count": null,
   "metadata": {},
   "outputs": [],
   "source": [
    "# Remove extraneous columns & reset index\n",
    "movies.drop(columns=['title', 'date_published', 'description', 'usa_gross_income',\n",
    "                     'reviews_from_users', 'reviews_from_critics'], inplace=True)\n",
    "movies.set_index('imdb_title_id', inplace=True)"
   ]
  },
  {
   "cell_type": "code",
   "execution_count": null,
   "metadata": {},
   "outputs": [],
   "source": [
    "# removed the following from 'drop' column in case model can be trained to predict revenues:\n",
    "# 'budget', 'worlwide_gross_income'"
   ]
  },
  {
   "cell_type": "code",
   "execution_count": null,
   "metadata": {},
   "outputs": [],
   "source": [
    "print(movies.shape)\n",
    "movies.head()"
   ]
  },
  {
   "cell_type": "markdown",
   "metadata": {},
   "source": [
    "# Nicole's code ends here"
   ]
  },
  {
   "cell_type": "markdown",
   "metadata": {},
   "source": [
    "# The following code provided by instructor Dom Labella to assist with translating our data into a useable format."
   ]
  },
  {
   "cell_type": "code",
   "execution_count": null,
   "metadata": {},
   "outputs": [],
   "source": [
    "MAX_ACTORS_PER_MOVIE = 3  # Count only this many actors for each movie;\n",
    "                          # i.e., ignore the lesser-known actors to keep the dataframe manageable\n",
    "actors_dictionary = {}    # Define an empty dictionary for tracking the actors"
   ]
  },
  {
   "cell_type": "code",
   "execution_count": null,
   "metadata": {},
   "outputs": [],
   "source": [
    "# Walk down the dataframe, movie by movie ...\n",
    "for index, row in movies.iterrows():\n",
    "    \n",
    "    # read the list of actors, splitting them at the comma \n",
    "    actor_names = row['actors'].split(',')\n",
    "    \n",
    "    # for each actor in the list (up to the maximum desired)\n",
    "    for name in actor_names[0:MAX_ACTORS_PER_MOVIE]:\n",
    "        \n",
    "        # remove any whitespace from the name\n",
    "        name = name.strip()\n",
    "        \n",
    "        # if the actor is already in the dictionary then\n",
    "        # simply increase the count. Otherwise, add the actor\n",
    "        # and set the count to 1. \n",
    "        if name in actors_dictionary:\n",
    "            actors_dictionary[name] += 1\n",
    "        else:\n",
    "            actors_dictionary[name] = 1\n",
    "            "
   ]
  },
  {
   "cell_type": "code",
   "execution_count": null,
   "metadata": {},
   "outputs": [],
   "source": [
    "# Count the total number of actors found\n",
    "total_actors = len(actors_dictionary)\n",
    "print(f\"Found a total of {total_actors} actors\")"
   ]
  },
  {
   "cell_type": "code",
   "execution_count": null,
   "metadata": {},
   "outputs": [],
   "source": [
    "# Add one new column to the dataframe for each actor found,\n",
    "# and initialize that new column with 0s.\n",
    "for actor in actors_dictionary:\n",
    "    movies[actor] = np.zeros(movies.shape[0])"
   ]
  },
  {
   "cell_type": "code",
   "execution_count": null,
   "metadata": {},
   "outputs": [],
   "source": [
    "# Walk down the dataframe, movie by movie ...\n",
    "for index, row in movies.iterrows():\n",
    "    \n",
    "    # read the list of actors \n",
    "    actor_names = row['actors'].split(',')\n",
    "    \n",
    "    # for each actor in the list (up to the maximum desired)\n",
    "    for name in actor_names[0:MAX_ACTORS_PER_MOVIE]: \n",
    "                \n",
    "        # remove any whitespace from the name\n",
    "        name = name.strip()\n",
    "                \n",
    "        # then indicate that the actor starred in this movie\n",
    "        movies.loc[index, name] = 1\n",
    "        "
   ]
  },
  {
   "cell_type": "code",
   "execution_count": null,
   "metadata": {},
   "outputs": [],
   "source": [
    "# This cell checks the column for a particular actor, just for debugging purposes. \n",
    "# Here we see that Tom Cruise appears in 35 of the movies and doesn't appear in the other 6344.\n",
    "movies['Tom Cruise'].value_counts()"
   ]
  },
  {
   "cell_type": "code",
   "execution_count": null,
   "metadata": {},
   "outputs": [],
   "source": [
    "movies['Carrie Fisher'].value_counts()"
   ]
  },
  {
   "cell_type": "markdown",
   "metadata": {},
   "source": [
    "# Dom's code ends here"
   ]
  },
  {
   "cell_type": "markdown",
   "metadata": {},
   "source": [
    "# Marianne's Code starts here"
   ]
  },
  {
   "cell_type": "code",
   "execution_count": null,
   "metadata": {},
   "outputs": [],
   "source": [
    "# create a dropdown list of actors, in order of # of movies, to create drop-down for website\n",
    "top_actors = dict(sorted(actors_dictionary.items(), key=lambda item: item[1], reverse=True))"
   ]
  },
  {
   "cell_type": "code",
   "execution_count": null,
   "metadata": {},
   "outputs": [],
   "source": [
    "# top_actors"
   ]
  },
  {
   "cell_type": "code",
   "execution_count": null,
   "metadata": {},
   "outputs": [],
   "source": [
    "actor_df = pd.DataFrame(top_actors.items(), columns=['actor', 'total movies'])\n",
    "\n",
    "actor_df.head()"
   ]
  },
  {
   "cell_type": "code",
   "execution_count": null,
   "metadata": {},
   "outputs": [],
   "source": [
    "# Save to file\n",
    "actor_df.to_csv('top_actors_for_drop_down.csv', index=False)"
   ]
  },
  {
   "cell_type": "code",
   "execution_count": null,
   "metadata": {},
   "outputs": [],
   "source": [
    "# create the 'success' column that will be used to train the model/predict the outcome of a movie\n",
    "# set the initial value to 0 for 'not successful'\n",
    "movies['success'] = 0\n"
   ]
  },
  {
   "cell_type": "code",
   "execution_count": null,
   "metadata": {},
   "outputs": [],
   "source": [
    "# Walk down the dataframe, movie by movie ...\n",
    "for index, row in movies.iterrows():\n",
    "    \n",
    "    if row['revenue_percent'] >= 200:\n",
    "        movies.loc[index, 'success'] = 1\n",
    "    \n",
    "# success based on 200% revenue based on this article:\n",
    "# https://io9.gizmodo.com/how-much-money-does-a-movie-need-to-make-to-be-profitab-5747305\n"
   ]
  },
  {
   "cell_type": "code",
   "execution_count": null,
   "metadata": {},
   "outputs": [],
   "source": [
    "# define an empty dictionary for tracking genres\n",
    "genre_dictionary = {}"
   ]
  },
  {
   "cell_type": "code",
   "execution_count": null,
   "metadata": {},
   "outputs": [],
   "source": [
    "# go through the dataframe row by row\n",
    "for index, row in movies.iterrows():\n",
    "    \n",
    "#     read the list of genres and split at the comma\n",
    "    genre_names = row['genre'].split(',')   \n",
    "    \n",
    "#     for each genre in the list\n",
    "    for genre in genre_names:\n",
    "        \n",
    "#     remove whitespace from the name\n",
    "        genre = genre.strip()\n",
    "    \n",
    "#     if the genre is in the dictionary, increase the count. \n",
    "#     otherwise, add the genre and set the count to one\n",
    "        if genre in genre_dictionary:\n",
    "            genre_dictionary[genre] += 1\n",
    "        else: \n",
    "            genre_dictionary[genre] = 1"
   ]
  },
  {
   "cell_type": "code",
   "execution_count": null,
   "metadata": {},
   "outputs": [],
   "source": [
    "# count the total number of genres found\n",
    "total_genres = len(genre_dictionary)\n",
    "print(f\"Found a total of {total_genres} genres\")"
   ]
  },
  {
   "cell_type": "code",
   "execution_count": null,
   "metadata": {},
   "outputs": [],
   "source": [
    "# create a column for each genre\n",
    "for genre in genre_dictionary:\n",
    "    movies[genre] = np.zeros(movies.shape[0])\n",
    "    "
   ]
  },
  {
   "cell_type": "code",
   "execution_count": null,
   "metadata": {},
   "outputs": [],
   "source": [
    "# initialize the new columns\n",
    "\n",
    "for index, row in movies.iterrows():\n",
    "    genre_names = row['genre'].split(',')\n",
    "    \n",
    "#     for each genre in the list\n",
    "    for genre in genre_names:\n",
    "        genre = genre.strip()\n",
    "        \n",
    "        movies.loc[index, genre] = 1"
   ]
  },
  {
   "cell_type": "code",
   "execution_count": null,
   "metadata": {},
   "outputs": [],
   "source": [
    "movies['Comedy'].value_counts()"
   ]
  },
  {
   "cell_type": "code",
   "execution_count": null,
   "metadata": {},
   "outputs": [],
   "source": [
    "movies['Action'].value_counts()"
   ]
  },
  {
   "cell_type": "code",
   "execution_count": null,
   "metadata": {},
   "outputs": [],
   "source": [
    "director_dictionary = {} "
   ]
  },
  {
   "cell_type": "code",
   "execution_count": null,
   "metadata": {},
   "outputs": [],
   "source": [
    "# repeat the actor and genre code for directors\n",
    "for index, row in movies.iterrows():\n",
    "    \n",
    "    # read the list of director, splitting them at the comma \n",
    "    director_names = row['director'].split(',')\n",
    "    \n",
    "    # for each director in the list \n",
    "    for director in director_names:\n",
    "        \n",
    "        # remove any whitespace \n",
    "        director = director.strip()\n",
    "        \n",
    "        # if the director is already in the dictionary then\n",
    "        # simply increase the count. Otherwise, add the director\n",
    "        # and set the count to 1. \n",
    "        if director in director_dictionary:\n",
    "            director_dictionary[director] += 1\n",
    "        else:\n",
    "            director_dictionary[director] = 1"
   ]
  },
  {
   "cell_type": "code",
   "execution_count": null,
   "metadata": {},
   "outputs": [],
   "source": [
    "# Count the total number of directors found\n",
    "total_director = len(director_dictionary)\n",
    "print(f\"Found a total of {total_director} directors\")"
   ]
  },
  {
   "cell_type": "code",
   "execution_count": null,
   "metadata": {},
   "outputs": [],
   "source": [
    "# Add one new column to the dataframe for each actor found,\n",
    "# and initialize that new column with 0s.\n",
    "for director in director_dictionary:\n",
    "    movies[director] = np.zeros(movies.shape[0])"
   ]
  },
  {
   "cell_type": "code",
   "execution_count": null,
   "metadata": {},
   "outputs": [],
   "source": [
    "# Walk down the dataframe, movie by movie ...\n",
    "for index, row in movies.iterrows():\n",
    "    \n",
    "    # read the list of actors \n",
    "    director_names = row['director'].split(',')\n",
    "    \n",
    "    # for each actor in the list (up to the maximum desired)\n",
    "    for director in director_names: \n",
    "                \n",
    "        # remove any whitespace from the name\n",
    "        director = director.strip()\n",
    "                \n",
    "        # then indicate that the actor starred in this movie\n",
    "        movies.loc[index, director] = 1\n",
    "        "
   ]
  },
  {
   "cell_type": "code",
   "execution_count": null,
   "metadata": {},
   "outputs": [],
   "source": [
    "movies['Mel Brooks'].value_counts()"
   ]
  },
  {
   "cell_type": "code",
   "execution_count": null,
   "metadata": {},
   "outputs": [],
   "source": [
    "movies['Steven Spielberg'].value_counts()"
   ]
  },
  {
   "cell_type": "markdown",
   "metadata": {},
   "source": [
    "# Marianne's code ends here"
   ]
  },
  {
   "cell_type": "code",
   "execution_count": null,
   "metadata": {},
   "outputs": [],
   "source": [
    "# Save to file\n",
    "movies.to_csv('moviesClean.csv', index=False)"
   ]
  }
 ],
 "metadata": {
  "kernelspec": {
   "display_name": "Python [conda env:PythonML] *",
   "language": "python",
   "name": "conda-env-PythonML-py"
  },
  "language_info": {
   "codemirror_mode": {
    "name": "ipython",
    "version": 3
   },
   "file_extension": ".py",
   "mimetype": "text/x-python",
   "name": "python",
   "nbconvert_exporter": "python",
   "pygments_lexer": "ipython3",
   "version": "3.6.12"
  }
 },
 "nbformat": 4,
 "nbformat_minor": 4
}
