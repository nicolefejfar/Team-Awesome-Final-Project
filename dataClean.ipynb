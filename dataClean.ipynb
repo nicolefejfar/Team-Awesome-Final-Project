{
 "cells": [
  {
   "cell_type": "code",
   "execution_count": null,
   "metadata": {},
   "outputs": [],
   "source": [
    "import pandas as pd\n",
    "import numpy as np"
   ]
  },
  {
   "cell_type": "code",
   "execution_count": null,
   "metadata": {},
   "outputs": [],
   "source": [
    "# Read in csv\n",
    "movies = pd.read_csv(\"IMDb movies.csv\")\n",
    "print(movies.shape)\n",
    "movies.head(1)"
   ]
  },
  {
   "cell_type": "code",
   "execution_count": null,
   "metadata": {},
   "outputs": [],
   "source": [
    "# Remove rows w/NaN values from pertinent columns\n",
    "movies = movies[~movies.budget.isna()]\n",
    "movies = movies[~movies.worlwide_gross_income.isna()]\n",
    "movies = movies[~movies.metascore.isna()]"
   ]
  },
  {
   "cell_type": "code",
   "execution_count": null,
   "metadata": {},
   "outputs": [],
   "source": [
    "# Remove $ and , from budget/income columns\n",
    "movies['budget'] = movies['budget'].replace({'\\$': '', ',': ''}, regex=True)\n",
    "movies['worlwide_gross_income'] = movies['worlwide_gross_income'].replace({'\\$': '', ',': ''}, regex=True)"
   ]
  },
  {
   "cell_type": "code",
   "execution_count": null,
   "metadata": {},
   "outputs": [],
   "source": [
    "# Remove non-US currencies (all have text) from budget column\n",
    "movies = movies[pd.to_numeric(movies['budget'], errors='coerce').notnull()]"
   ]
  },
  {
   "cell_type": "code",
   "execution_count": null,
   "metadata": {},
   "outputs": [],
   "source": [
    "# Convert currency columns to floats\n",
    "movies['budget'] = movies['budget'].astype(float)\n",
    "movies['worlwide_gross_income'] = movies['worlwide_gross_income'].astype(float)"
   ]
  },
  {
   "cell_type": "code",
   "execution_count": null,
   "metadata": {},
   "outputs": [],
   "source": [
    "movies['worlwide_gross_income'] = round(movies['worlwide_gross_income'], 2)"
   ]
  },
  {
   "cell_type": "code",
   "execution_count": null,
   "metadata": {},
   "outputs": [],
   "source": [
    "# Calculate Revenue % Column\n",
    "movies['revenue_percent'] = round(((movies['worlwide_gross_income'] - movies['budget']) / movies['budget']) * 100, 2)"
   ]
  },
  {
   "cell_type": "code",
   "execution_count": null,
   "metadata": {},
   "outputs": [],
   "source": [
    "# Remove extraneous columns & reset index\n",
    "movies.drop(columns=['title', 'date_published', 'description', 'budget', 'usa_gross_income',\n",
    "                     'worlwide_gross_income', 'reviews_from_users', 'reviews_from_critics'], inplace=True)\n",
    "movies.set_index('imdb_title_id', inplace=True)"
   ]
  },
  {
   "cell_type": "code",
   "execution_count": null,
   "metadata": {},
   "outputs": [],
   "source": [
    "print(movies.shape)\n",
    "movies.head()"
   ]
  },
  {
   "cell_type": "code",
   "execution_count": null,
   "metadata": {},
   "outputs": [],
   "source": [
    "# Save to file\n",
    "movies.to_csv('moviesClean.csv', index=False)"
   ]
  }
 ],
 "metadata": {
  "kernelspec": {
   "display_name": "Python [conda env:PythonML] *",
   "language": "python",
   "name": "conda-env-PythonML-py"
  },
  "language_info": {
   "codemirror_mode": {
    "name": "ipython",
    "version": 3
   },
   "file_extension": ".py",
   "mimetype": "text/x-python",
   "name": "python",
   "nbconvert_exporter": "python",
   "pygments_lexer": "ipython3",
   "version": "3.6.12"
  }
 },
 "nbformat": 4,
 "nbformat_minor": 4
}
