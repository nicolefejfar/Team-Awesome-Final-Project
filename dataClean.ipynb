{
 "cells": [
  {
   "cell_type": "markdown",
   "metadata": {},
   "source": [
    "# Nicole's code starts here"
   ]
  },
  {
   "cell_type": "code",
   "execution_count": 1,
   "metadata": {},
   "outputs": [],
   "source": [
    "import pandas as pd\n",
    "import numpy as np"
   ]
  },
  {
   "cell_type": "code",
   "execution_count": 2,
   "metadata": {},
   "outputs": [
    {
     "name": "stdout",
     "output_type": "stream",
     "text": [
      "(85854, 22)\n"
     ]
    },
    {
     "name": "stderr",
     "output_type": "stream",
     "text": [
      "C:\\Users\\mmidw\\anaconda3\\envs\\PythonML\\lib\\site-packages\\IPython\\core\\interactiveshell.py:3072: DtypeWarning: Columns (16) have mixed types.Specify dtype option on import or set low_memory=False.\n",
      "  interactivity=interactivity, compiler=compiler, result=result)\n"
     ]
    },
    {
     "data": {
      "text/html": [
       "<div>\n",
       "<style scoped>\n",
       "    .dataframe tbody tr th:only-of-type {\n",
       "        vertical-align: middle;\n",
       "    }\n",
       "\n",
       "    .dataframe tbody tr th {\n",
       "        vertical-align: top;\n",
       "    }\n",
       "\n",
       "    .dataframe thead th {\n",
       "        text-align: right;\n",
       "    }\n",
       "</style>\n",
       "<table border=\"1\" class=\"dataframe\">\n",
       "  <thead>\n",
       "    <tr style=\"text-align: right;\">\n",
       "      <th></th>\n",
       "      <th>imdb_title_id</th>\n",
       "      <th>title</th>\n",
       "      <th>original_title</th>\n",
       "      <th>year</th>\n",
       "      <th>date_published</th>\n",
       "      <th>genre</th>\n",
       "      <th>duration</th>\n",
       "      <th>country</th>\n",
       "      <th>language</th>\n",
       "      <th>director</th>\n",
       "      <th>...</th>\n",
       "      <th>actors</th>\n",
       "      <th>description</th>\n",
       "      <th>avg_vote</th>\n",
       "      <th>votes</th>\n",
       "      <th>budget</th>\n",
       "      <th>usa_gross_income</th>\n",
       "      <th>worlwide_gross_income</th>\n",
       "      <th>metascore</th>\n",
       "      <th>reviews_from_users</th>\n",
       "      <th>reviews_from_critics</th>\n",
       "    </tr>\n",
       "  </thead>\n",
       "  <tbody>\n",
       "    <tr>\n",
       "      <th>0</th>\n",
       "      <td>tt11777308</td>\n",
       "      <td>Murder Death Koreatown</td>\n",
       "      <td>Murder Death Koreatown</td>\n",
       "      <td>2020</td>\n",
       "      <td>3/21/2020</td>\n",
       "      <td>Crime, Horror, Mystery</td>\n",
       "      <td>80</td>\n",
       "      <td>USA</td>\n",
       "      <td>English</td>\n",
       "      <td>NaN</td>\n",
       "      <td>...</td>\n",
       "      <td>NaN</td>\n",
       "      <td>After his neighbor's real life murder, an unem...</td>\n",
       "      <td>5.1</td>\n",
       "      <td>140</td>\n",
       "      <td>$0</td>\n",
       "      <td>NaN</td>\n",
       "      <td>NaN</td>\n",
       "      <td>NaN</td>\n",
       "      <td>4.0</td>\n",
       "      <td>36.0</td>\n",
       "    </tr>\n",
       "  </tbody>\n",
       "</table>\n",
       "<p>1 rows × 22 columns</p>\n",
       "</div>"
      ],
      "text/plain": [
       "  imdb_title_id                   title          original_title  year  \\\n",
       "0    tt11777308  Murder Death Koreatown  Murder Death Koreatown  2020   \n",
       "\n",
       "  date_published                   genre  duration country language director  \\\n",
       "0      3/21/2020  Crime, Horror, Mystery        80     USA  English      NaN   \n",
       "\n",
       "   ... actors                                        description avg_vote  \\\n",
       "0  ...    NaN  After his neighbor's real life murder, an unem...      5.1   \n",
       "\n",
       "  votes  budget  usa_gross_income worlwide_gross_income metascore  \\\n",
       "0   140     $0                NaN                   NaN       NaN   \n",
       "\n",
       "  reviews_from_users  reviews_from_critics  \n",
       "0                4.0                  36.0  \n",
       "\n",
       "[1 rows x 22 columns]"
      ]
     },
     "execution_count": 2,
     "metadata": {},
     "output_type": "execute_result"
    }
   ],
   "source": [
    "# Read in csv\n",
    "movies = pd.read_csv(\"IMDb movies.csv\")\n",
    "print(movies.shape)\n",
    "movies.head(1)"
   ]
  },
  {
   "cell_type": "code",
   "execution_count": 3,
   "metadata": {},
   "outputs": [],
   "source": [
    "# Remove rows w/NaN values from pertinent columns\n",
    "movies = movies[~movies.budget.isna()]\n",
    "movies = movies[~movies.worlwide_gross_income.isna()]\n",
    "movies = movies[~movies.metascore.isna()]"
   ]
  },
  {
   "cell_type": "code",
   "execution_count": 4,
   "metadata": {},
   "outputs": [],
   "source": [
    "# Remove $ and , from budget/income columns\n",
    "movies['budget'] = movies['budget'].replace({'\\$': '', ',': ''}, regex=True)\n",
    "movies['worlwide_gross_income'] = movies['worlwide_gross_income'].replace({'\\$': '', ',': ''}, regex=True)"
   ]
  },
  {
   "cell_type": "code",
   "execution_count": 5,
   "metadata": {},
   "outputs": [],
   "source": [
    "# Remove non-US currencies (all have text) from budget column\n",
    "movies = movies[pd.to_numeric(movies['budget'], errors='coerce').notnull()]"
   ]
  },
  {
   "cell_type": "code",
   "execution_count": 6,
   "metadata": {},
   "outputs": [],
   "source": [
    "# Convert currency columns to floats\n",
    "movies['budget'] = movies['budget'].astype(float)\n",
    "movies['worlwide_gross_income'] = movies['worlwide_gross_income'].astype(float)"
   ]
  },
  {
   "cell_type": "code",
   "execution_count": 7,
   "metadata": {},
   "outputs": [],
   "source": [
    "movies['worlwide_gross_income'] = round(movies['worlwide_gross_income'], 2)"
   ]
  },
  {
   "cell_type": "code",
   "execution_count": 8,
   "metadata": {},
   "outputs": [],
   "source": [
    "# Calculate Revenue % Column\n",
    "movies['revenue_percent'] = round(((movies['worlwide_gross_income'] - movies['budget']) / movies['budget']) * 100, 2)"
   ]
  },
  {
   "cell_type": "code",
   "execution_count": 9,
   "metadata": {},
   "outputs": [],
   "source": [
    "# Remove extraneous columns & reset index\n",
    "movies.drop(columns=['title', 'date_published', 'description', 'usa_gross_income',\n",
    "                     'reviews_from_users', 'reviews_from_critics'], inplace=True)\n",
    "movies.set_index('imdb_title_id', inplace=True)"
   ]
  },
  {
   "cell_type": "code",
   "execution_count": 10,
   "metadata": {},
   "outputs": [],
   "source": [
    "# removed the following from 'drop' column in case model can be trained to predict revenues:\n",
    "# 'budget', 'worlwide_gross_income'"
   ]
  },
  {
   "cell_type": "code",
   "execution_count": 11,
   "metadata": {},
   "outputs": [
    {
     "name": "stdout",
     "output_type": "stream",
     "text": [
      "(6379, 16)\n"
     ]
    },
    {
     "data": {
      "text/html": [
       "<div>\n",
       "<style scoped>\n",
       "    .dataframe tbody tr th:only-of-type {\n",
       "        vertical-align: middle;\n",
       "    }\n",
       "\n",
       "    .dataframe tbody tr th {\n",
       "        vertical-align: top;\n",
       "    }\n",
       "\n",
       "    .dataframe thead th {\n",
       "        text-align: right;\n",
       "    }\n",
       "</style>\n",
       "<table border=\"1\" class=\"dataframe\">\n",
       "  <thead>\n",
       "    <tr style=\"text-align: right;\">\n",
       "      <th></th>\n",
       "      <th>original_title</th>\n",
       "      <th>year</th>\n",
       "      <th>genre</th>\n",
       "      <th>duration</th>\n",
       "      <th>country</th>\n",
       "      <th>language</th>\n",
       "      <th>director</th>\n",
       "      <th>writer</th>\n",
       "      <th>production_company</th>\n",
       "      <th>actors</th>\n",
       "      <th>avg_vote</th>\n",
       "      <th>votes</th>\n",
       "      <th>budget</th>\n",
       "      <th>worlwide_gross_income</th>\n",
       "      <th>metascore</th>\n",
       "      <th>revenue_percent</th>\n",
       "    </tr>\n",
       "    <tr>\n",
       "      <th>imdb_title_id</th>\n",
       "      <th></th>\n",
       "      <th></th>\n",
       "      <th></th>\n",
       "      <th></th>\n",
       "      <th></th>\n",
       "      <th></th>\n",
       "      <th></th>\n",
       "      <th></th>\n",
       "      <th></th>\n",
       "      <th></th>\n",
       "      <th></th>\n",
       "      <th></th>\n",
       "      <th></th>\n",
       "      <th></th>\n",
       "      <th></th>\n",
       "      <th></th>\n",
       "    </tr>\n",
       "  </thead>\n",
       "  <tbody>\n",
       "    <tr>\n",
       "      <th>tt6793280</th>\n",
       "      <td>The Devil's Doorway</td>\n",
       "      <td>2018</td>\n",
       "      <td>Horror</td>\n",
       "      <td>76</td>\n",
       "      <td>Ireland, UK</td>\n",
       "      <td>English</td>\n",
       "      <td>Aislinn Clarke</td>\n",
       "      <td>Martin Brennan, Aislinn Clarke</td>\n",
       "      <td>23ten</td>\n",
       "      <td>Lalor Roddy, Ciaran Flynn, Helena Bereen, Laur...</td>\n",
       "      <td>5.2</td>\n",
       "      <td>2571</td>\n",
       "      <td>1.0</td>\n",
       "      <td>516660.0</td>\n",
       "      <td>48.0</td>\n",
       "      <td>51665900.00</td>\n",
       "    </tr>\n",
       "    <tr>\n",
       "      <th>tt0457452</th>\n",
       "      <td>The Reception</td>\n",
       "      <td>2005</td>\n",
       "      <td>Comedy, Drama, Romance</td>\n",
       "      <td>80</td>\n",
       "      <td>USA</td>\n",
       "      <td>English</td>\n",
       "      <td>John G. Young</td>\n",
       "      <td>John G. Young</td>\n",
       "      <td>Black Water Films</td>\n",
       "      <td>Maggie Burkwit, Chris Burmester, Darien Sills-...</td>\n",
       "      <td>5.8</td>\n",
       "      <td>183</td>\n",
       "      <td>5000.0</td>\n",
       "      <td>18389.0</td>\n",
       "      <td>64.0</td>\n",
       "      <td>267.78</td>\n",
       "    </tr>\n",
       "    <tr>\n",
       "      <th>tt0154506</th>\n",
       "      <td>Following</td>\n",
       "      <td>1998</td>\n",
       "      <td>Crime, Mystery, Thriller</td>\n",
       "      <td>69</td>\n",
       "      <td>UK</td>\n",
       "      <td>English</td>\n",
       "      <td>Christopher Nolan</td>\n",
       "      <td>Christopher Nolan</td>\n",
       "      <td>Next Wave Films</td>\n",
       "      <td>Jeremy Theobald, Alex Haw, Lucy Russell, John ...</td>\n",
       "      <td>7.5</td>\n",
       "      <td>84550</td>\n",
       "      <td>6000.0</td>\n",
       "      <td>48482.0</td>\n",
       "      <td>60.0</td>\n",
       "      <td>708.03</td>\n",
       "    </tr>\n",
       "    <tr>\n",
       "      <th>tt0104815</th>\n",
       "      <td>El mariachi</td>\n",
       "      <td>1992</td>\n",
       "      <td>Action, Crime, Thriller</td>\n",
       "      <td>81</td>\n",
       "      <td>Mexico, USA</td>\n",
       "      <td>Spanish</td>\n",
       "      <td>Robert Rodriguez</td>\n",
       "      <td>Robert Rodriguez</td>\n",
       "      <td>Columbia Pictures</td>\n",
       "      <td>Carlos Gallardo, Consuelo Gómez, Jaime de Hoyo...</td>\n",
       "      <td>6.9</td>\n",
       "      <td>62362</td>\n",
       "      <td>7000.0</td>\n",
       "      <td>2040920.0</td>\n",
       "      <td>73.0</td>\n",
       "      <td>29056.00</td>\n",
       "    </tr>\n",
       "    <tr>\n",
       "      <th>tt0390384</th>\n",
       "      <td>Primer</td>\n",
       "      <td>2004</td>\n",
       "      <td>Drama, Sci-Fi, Thriller</td>\n",
       "      <td>77</td>\n",
       "      <td>USA</td>\n",
       "      <td>English, French</td>\n",
       "      <td>Shane Carruth</td>\n",
       "      <td>Shane Carruth</td>\n",
       "      <td>ERBP</td>\n",
       "      <td>Shane Carruth, David Sullivan, Casey Gooden, A...</td>\n",
       "      <td>6.9</td>\n",
       "      <td>96229</td>\n",
       "      <td>7000.0</td>\n",
       "      <td>545436.0</td>\n",
       "      <td>68.0</td>\n",
       "      <td>7691.94</td>\n",
       "    </tr>\n",
       "  </tbody>\n",
       "</table>\n",
       "</div>"
      ],
      "text/plain": [
       "                    original_title  year                     genre  duration  \\\n",
       "imdb_title_id                                                                  \n",
       "tt6793280      The Devil's Doorway  2018                    Horror        76   \n",
       "tt0457452            The Reception  2005    Comedy, Drama, Romance        80   \n",
       "tt0154506                Following  1998  Crime, Mystery, Thriller        69   \n",
       "tt0104815              El mariachi  1992   Action, Crime, Thriller        81   \n",
       "tt0390384                   Primer  2004   Drama, Sci-Fi, Thriller        77   \n",
       "\n",
       "                   country         language           director  \\\n",
       "imdb_title_id                                                    \n",
       "tt6793280      Ireland, UK          English     Aislinn Clarke   \n",
       "tt0457452              USA          English      John G. Young   \n",
       "tt0154506               UK          English  Christopher Nolan   \n",
       "tt0104815      Mexico, USA          Spanish   Robert Rodriguez   \n",
       "tt0390384              USA  English, French      Shane Carruth   \n",
       "\n",
       "                                       writer production_company  \\\n",
       "imdb_title_id                                                      \n",
       "tt6793280      Martin Brennan, Aislinn Clarke              23ten   \n",
       "tt0457452                       John G. Young  Black Water Films   \n",
       "tt0154506                   Christopher Nolan    Next Wave Films   \n",
       "tt0104815                    Robert Rodriguez  Columbia Pictures   \n",
       "tt0390384                       Shane Carruth               ERBP   \n",
       "\n",
       "                                                          actors  avg_vote  \\\n",
       "imdb_title_id                                                                \n",
       "tt6793280      Lalor Roddy, Ciaran Flynn, Helena Bereen, Laur...       5.2   \n",
       "tt0457452      Maggie Burkwit, Chris Burmester, Darien Sills-...       5.8   \n",
       "tt0154506      Jeremy Theobald, Alex Haw, Lucy Russell, John ...       7.5   \n",
       "tt0104815      Carlos Gallardo, Consuelo Gómez, Jaime de Hoyo...       6.9   \n",
       "tt0390384      Shane Carruth, David Sullivan, Casey Gooden, A...       6.9   \n",
       "\n",
       "               votes  budget  worlwide_gross_income  metascore  \\\n",
       "imdb_title_id                                                    \n",
       "tt6793280       2571     1.0               516660.0       48.0   \n",
       "tt0457452        183  5000.0                18389.0       64.0   \n",
       "tt0154506      84550  6000.0                48482.0       60.0   \n",
       "tt0104815      62362  7000.0              2040920.0       73.0   \n",
       "tt0390384      96229  7000.0               545436.0       68.0   \n",
       "\n",
       "               revenue_percent  \n",
       "imdb_title_id                   \n",
       "tt6793280          51665900.00  \n",
       "tt0457452               267.78  \n",
       "tt0154506               708.03  \n",
       "tt0104815             29056.00  \n",
       "tt0390384              7691.94  "
      ]
     },
     "execution_count": 11,
     "metadata": {},
     "output_type": "execute_result"
    }
   ],
   "source": [
    "print(movies.shape)\n",
    "movies.head()"
   ]
  },
  {
   "cell_type": "markdown",
   "metadata": {},
   "source": [
    "# Nicole's code ends here"
   ]
  },
  {
   "cell_type": "markdown",
   "metadata": {},
   "source": [
    "# The following code provided by instructor Dom Labella to assist with translating our data into a useable format."
   ]
  },
  {
   "cell_type": "code",
   "execution_count": 12,
   "metadata": {},
   "outputs": [],
   "source": [
    "MAX_ACTORS_PER_MOVIE = 3  # Count only this many actors for each movie;\n",
    "                          # i.e., ignore the lesser-known actors to keep the dataframe manageable\n",
    "actors_dictionary = {}    # Define an empty dictionary for tracking the actors"
   ]
  },
  {
   "cell_type": "code",
   "execution_count": 13,
   "metadata": {},
   "outputs": [],
   "source": [
    "# Walk down the dataframe, movie by movie ...\n",
    "for index, row in movies.iterrows():\n",
    "    \n",
    "    # read the list of actors, splitting them at the comma \n",
    "    actor_names = row['actors'].split(',')\n",
    "    \n",
    "    # for each actor in the list (up to the maximum desired)\n",
    "    for name in actor_names[0:MAX_ACTORS_PER_MOVIE]:\n",
    "        \n",
    "        # remove any whitespace from the name\n",
    "        name = name.strip()\n",
    "        \n",
    "        # if the actor is already in the dictionary then\n",
    "        # simply increase the count. Otherwise, add the actor\n",
    "        # and set the count to 1. \n",
    "        if name in actors_dictionary:\n",
    "            actors_dictionary[name] += 1\n",
    "        else:\n",
    "            actors_dictionary[name] = 1\n",
    "            "
   ]
  },
  {
   "cell_type": "code",
   "execution_count": 14,
   "metadata": {},
   "outputs": [
    {
     "name": "stdout",
     "output_type": "stream",
     "text": [
      "Found a total of 7809 actors\n"
     ]
    }
   ],
   "source": [
    "# Count the total number of actors found\n",
    "total_actors = len(actors_dictionary)\n",
    "print(f\"Found a total of {total_actors} actors\")"
   ]
  },
  {
   "cell_type": "code",
   "execution_count": 15,
   "metadata": {},
   "outputs": [],
   "source": [
    "# Add one new column to the dataframe for each actor found,\n",
    "# and initialize that new column with 0s.\n",
    "for actor in actors_dictionary:\n",
    "    movies[actor] = np.zeros(movies.shape[0])"
   ]
  },
  {
   "cell_type": "code",
   "execution_count": 16,
   "metadata": {},
   "outputs": [],
   "source": [
    "# Walk down the dataframe, movie by movie ...\n",
    "for index, row in movies.iterrows():\n",
    "    \n",
    "    # read the list of actors \n",
    "    actor_names = row['actors'].split(',')\n",
    "    \n",
    "    # for each actor in the list (up to the maximum desired)\n",
    "    for name in actor_names[0:MAX_ACTORS_PER_MOVIE]: \n",
    "                \n",
    "        # remove any whitespace from the name\n",
    "        name = name.strip()\n",
    "                \n",
    "        # then indicate that the actor starred in this movie\n",
    "        movies.loc[index, name] = 1\n",
    "        "
   ]
  },
  {
   "cell_type": "code",
   "execution_count": 17,
   "metadata": {},
   "outputs": [
    {
     "data": {
      "text/plain": [
       "0.0    6344\n",
       "1.0      35\n",
       "Name: Tom Cruise, dtype: int64"
      ]
     },
     "execution_count": 17,
     "metadata": {},
     "output_type": "execute_result"
    }
   ],
   "source": [
    "# This cell checks the column for a particular actor, just for debugging purposes. \n",
    "# Here we see that Tom Cruise appears in 35 of the movies and doesn't appear in the other 6344.\n",
    "movies['Tom Cruise'].value_counts()"
   ]
  },
  {
   "cell_type": "code",
   "execution_count": 18,
   "metadata": {},
   "outputs": [
    {
     "data": {
      "text/plain": [
       "0.0    6369\n",
       "1.0      10\n",
       "Name: Carrie Fisher, dtype: int64"
      ]
     },
     "execution_count": 18,
     "metadata": {},
     "output_type": "execute_result"
    }
   ],
   "source": [
    "movies['Carrie Fisher'].value_counts()"
   ]
  },
  {
   "cell_type": "markdown",
   "metadata": {},
   "source": [
    "# Dom's code ends here"
   ]
  },
  {
   "cell_type": "markdown",
   "metadata": {},
   "source": [
    "# Marianne's Code starts here"
   ]
  },
  {
   "cell_type": "code",
   "execution_count": 19,
   "metadata": {},
   "outputs": [],
   "source": [
    "# create a dropdown list of actors, in order of # of movies, to create drop-down for website\n",
    "top_actors = dict(sorted(actors_dictionary.items(), key=lambda item: item[1], reverse=True))"
   ]
  },
  {
   "cell_type": "code",
   "execution_count": 20,
   "metadata": {},
   "outputs": [],
   "source": [
    "# top_actors"
   ]
  },
  {
   "cell_type": "code",
   "execution_count": 21,
   "metadata": {},
   "outputs": [
    {
     "data": {
      "text/html": [
       "<div>\n",
       "<style scoped>\n",
       "    .dataframe tbody tr th:only-of-type {\n",
       "        vertical-align: middle;\n",
       "    }\n",
       "\n",
       "    .dataframe tbody tr th {\n",
       "        vertical-align: top;\n",
       "    }\n",
       "\n",
       "    .dataframe thead th {\n",
       "        text-align: right;\n",
       "    }\n",
       "</style>\n",
       "<table border=\"1\" class=\"dataframe\">\n",
       "  <thead>\n",
       "    <tr style=\"text-align: right;\">\n",
       "      <th></th>\n",
       "      <th>actor</th>\n",
       "      <th>total movies</th>\n",
       "    </tr>\n",
       "  </thead>\n",
       "  <tbody>\n",
       "    <tr>\n",
       "      <th>0</th>\n",
       "      <td>Robert De Niro</td>\n",
       "      <td>57</td>\n",
       "    </tr>\n",
       "    <tr>\n",
       "      <th>1</th>\n",
       "      <td>Nicolas Cage</td>\n",
       "      <td>56</td>\n",
       "    </tr>\n",
       "    <tr>\n",
       "      <th>2</th>\n",
       "      <td>Bruce Willis</td>\n",
       "      <td>48</td>\n",
       "    </tr>\n",
       "    <tr>\n",
       "      <th>3</th>\n",
       "      <td>Samuel L. Jackson</td>\n",
       "      <td>41</td>\n",
       "    </tr>\n",
       "    <tr>\n",
       "      <th>4</th>\n",
       "      <td>Clint Eastwood</td>\n",
       "      <td>40</td>\n",
       "    </tr>\n",
       "  </tbody>\n",
       "</table>\n",
       "</div>"
      ],
      "text/plain": [
       "               actor  total movies\n",
       "0     Robert De Niro            57\n",
       "1       Nicolas Cage            56\n",
       "2       Bruce Willis            48\n",
       "3  Samuel L. Jackson            41\n",
       "4     Clint Eastwood            40"
      ]
     },
     "execution_count": 21,
     "metadata": {},
     "output_type": "execute_result"
    }
   ],
   "source": [
    "actor_df = pd.DataFrame(top_actors.items(), columns=['actor', 'total movies'])\n",
    "\n",
    "actor_df.head()"
   ]
  },
  {
   "cell_type": "code",
   "execution_count": 22,
   "metadata": {},
   "outputs": [],
   "source": [
    "# create the 'success' column that will be used to train the model/predict the outcome of a movie\n",
    "# set the initial value to 0 for 'not successful'\n",
    "movies['success'] = 0\n"
   ]
  },
  {
   "cell_type": "code",
   "execution_count": 23,
   "metadata": {},
   "outputs": [],
   "source": [
    "# Walk down the dataframe, movie by movie ...\n",
    "for index, row in movies.iterrows():\n",
    "    \n",
    "    if row['revenue_percent'] >= 200:\n",
    "        movies.loc[index, 'success'] = 1\n",
    "    \n",
    "# success based on 200% revenue based on this article:\n",
    "# https://io9.gizmodo.com/how-much-money-does-a-movie-need-to-make-to-be-profitab-5747305\n"
   ]
  },
  {
   "cell_type": "code",
   "execution_count": 24,
   "metadata": {},
   "outputs": [],
   "source": [
    "# define an empty dictionary for tracking genres\n",
    "genre_dictionary = {}"
   ]
  },
  {
   "cell_type": "code",
   "execution_count": 25,
   "metadata": {},
   "outputs": [],
   "source": [
    "# go through the dataframe row by row\n",
    "for index, row in movies.iterrows():\n",
    "    \n",
    "#     read the list of genres and split at the comma\n",
    "    genre_names = row['genre'].split(',')   \n",
    "    \n",
    "#     for each genre in the list\n",
    "    for genre in genre_names:\n",
    "        \n",
    "#     remove whitespace from the name\n",
    "        genre = genre.strip()\n",
    "    \n",
    "#     if the genre is in the dictionary, increase the count. \n",
    "#     otherwise, add the genre and set the count to one\n",
    "        if genre in genre_dictionary:\n",
    "            genre_dictionary[genre] += 1\n",
    "        else: \n",
    "            genre_dictionary[genre] = 1"
   ]
  },
  {
   "cell_type": "code",
   "execution_count": 26,
   "metadata": {},
   "outputs": [
    {
     "name": "stdout",
     "output_type": "stream",
     "text": [
      "Found a total of 21 genres\n"
     ]
    }
   ],
   "source": [
    "# count the total number of genres found\n",
    "total_genres = len(genre_dictionary)\n",
    "print(f\"Found a total of {total_genres} genres\")"
   ]
  },
  {
   "cell_type": "code",
   "execution_count": 27,
   "metadata": {},
   "outputs": [],
   "source": [
    "# create a column for each genre\n",
    "for genre in genre_dictionary:\n",
    "    movies[genre] = np.zeros(movies.shape[0])\n",
    "    "
   ]
  },
  {
   "cell_type": "code",
   "execution_count": 28,
   "metadata": {},
   "outputs": [],
   "source": [
    "# initialize the new columns\n",
    "\n",
    "for index, row in movies.iterrows():\n",
    "    genre_names = row['genre'].split(',')\n",
    "    \n",
    "#     for each genre in the list\n",
    "    for genre in genre_names:\n",
    "        genre = genre.strip()\n",
    "        \n",
    "        movies.loc[index, genre] = 1"
   ]
  },
  {
   "cell_type": "code",
   "execution_count": 29,
   "metadata": {},
   "outputs": [
    {
     "data": {
      "text/plain": [
       "0.0    3947\n",
       "1.0    2432\n",
       "Name: Comedy, dtype: int64"
      ]
     },
     "execution_count": 29,
     "metadata": {},
     "output_type": "execute_result"
    }
   ],
   "source": [
    "movies['Comedy'].value_counts()"
   ]
  },
  {
   "cell_type": "code",
   "execution_count": 30,
   "metadata": {},
   "outputs": [
    {
     "data": {
      "text/plain": [
       "0.0    4803\n",
       "1.0    1576\n",
       "Name: Action, dtype: int64"
      ]
     },
     "execution_count": 30,
     "metadata": {},
     "output_type": "execute_result"
    }
   ],
   "source": [
    "movies['Action'].value_counts()"
   ]
  },
  {
   "cell_type": "code",
   "execution_count": 31,
   "metadata": {},
   "outputs": [],
   "source": [
    "director_dictionary = {} "
   ]
  },
  {
   "cell_type": "code",
   "execution_count": 32,
   "metadata": {},
   "outputs": [],
   "source": [
    "# repeat the actor and genre code for directors\n",
    "for index, row in movies.iterrows():\n",
    "    \n",
    "    # read the list of director, splitting them at the comma \n",
    "    director_names = row['director'].split(',')\n",
    "    \n",
    "    # for each director in the list \n",
    "    for director in director_names:\n",
    "        \n",
    "        # remove any whitespace \n",
    "        director = director.strip()\n",
    "        \n",
    "        # if the director is already in the dictionary then\n",
    "        # simply increase the count. Otherwise, add the director\n",
    "        # and set the count to 1. \n",
    "        if director in director_dictionary:\n",
    "            director_dictionary[director] += 1\n",
    "        else:\n",
    "            director_dictionary[director] = 1"
   ]
  },
  {
   "cell_type": "code",
   "execution_count": 33,
   "metadata": {},
   "outputs": [
    {
     "name": "stdout",
     "output_type": "stream",
     "text": [
      "Found a total of 2917 directors\n"
     ]
    }
   ],
   "source": [
    "# Count the total number of directors found\n",
    "total_director = len(director_dictionary)\n",
    "print(f\"Found a total of {total_director} directors\")"
   ]
  },
  {
   "cell_type": "code",
   "execution_count": 34,
   "metadata": {},
   "outputs": [],
   "source": [
    "# Add one new column to the dataframe for each actor found,\n",
    "# and initialize that new column with 0s.\n",
    "for director in director_dictionary:\n",
    "    movies[director] = np.zeros(movies.shape[0])"
   ]
  },
  {
   "cell_type": "code",
   "execution_count": 35,
   "metadata": {},
   "outputs": [],
   "source": [
    "# Walk down the dataframe, movie by movie ...\n",
    "for index, row in movies.iterrows():\n",
    "    \n",
    "    # read the list of actors \n",
    "    director_names = row['director'].split(',')\n",
    "    \n",
    "    # for each actor in the list (up to the maximum desired)\n",
    "    for director in director_names: \n",
    "                \n",
    "        # remove any whitespace from the name\n",
    "        director = director.strip()\n",
    "                \n",
    "        # then indicate that the actor starred in this movie\n",
    "        movies.loc[index, director] = 1\n",
    "        "
   ]
  },
  {
   "cell_type": "code",
   "execution_count": 36,
   "metadata": {},
   "outputs": [
    {
     "data": {
      "text/plain": [
       "0.0    6370\n",
       "1.0       9\n",
       "Name: Mel Brooks, dtype: int64"
      ]
     },
     "execution_count": 36,
     "metadata": {},
     "output_type": "execute_result"
    }
   ],
   "source": [
    "movies['Mel Brooks'].value_counts()"
   ]
  },
  {
   "cell_type": "code",
   "execution_count": 37,
   "metadata": {},
   "outputs": [
    {
     "data": {
      "text/plain": [
       "0.0    6348\n",
       "1.0      31\n",
       "Name: Steven Spielberg, dtype: int64"
      ]
     },
     "execution_count": 37,
     "metadata": {},
     "output_type": "execute_result"
    }
   ],
   "source": [
    "movies['Steven Spielberg'].value_counts()"
   ]
  },
  {
   "cell_type": "markdown",
   "metadata": {},
   "source": [
    "# Marianne's code ends here"
   ]
  },
  {
   "cell_type": "code",
   "execution_count": 38,
   "metadata": {},
   "outputs": [],
   "source": [
    "# Save to file\n",
    "movies.to_csv('moviesClean.csv', index=False)"
   ]
  }
 ],
 "metadata": {
  "kernelspec": {
   "display_name": "Python 3",
   "language": "python",
   "name": "python3"
  },
  "language_info": {
   "codemirror_mode": {
    "name": "ipython",
    "version": 3
   },
   "file_extension": ".py",
   "mimetype": "text/x-python",
   "name": "python",
   "nbconvert_exporter": "python",
   "pygments_lexer": "ipython3",
   "version": "3.6.12"
  }
 },
 "nbformat": 4,
 "nbformat_minor": 4
}
